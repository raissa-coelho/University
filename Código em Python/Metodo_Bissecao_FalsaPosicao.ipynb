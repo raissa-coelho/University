{
  "cells": [
    {
      "cell_type": "markdown",
      "metadata": {
        "id": "nxvVqB1TGVrv"
      },
      "source": [
        "### Método de Bisseção\n"
      ]
    },
    {
      "cell_type": "code",
      "execution_count": 8,
      "metadata": {
        "colab": {
          "base_uri": "https://localhost:8080/"
        },
        "id": "q30eNSKI7jQa",
        "outputId": "38187cc4-6e78-4eeb-e251-4bedd2262303"
      },
      "outputs": [
        {
          "output_type": "stream",
          "name": "stdout",
          "text": [
            "|k: 0|a : 0 |b : 1.3 |x : 0.65000000 |f(x) : -0.03445917 |f(a) : 1.00000000 |\n",
            "|k: 1|a : 0 |b : 0.65 |x : 0.32500000 |f(x) : 0.40903065 |f(a) : 1.00000000 |\n",
            "|k: 2|a : 0.325 |b : 0.65 |x : 0.48750000 |f(x) : 0.16574053 |f(a) : 0.40903065 |\n",
            "|k: 3|a : 0.48750000000000004 |b : 0.65 |x : 0.56875000 |f(x) : 0.05980810 |f(a) : 0.16574053 |\n",
            "|k: 4|a : 0.5687500000000001 |b : 0.65 |x : 0.60937500 |f(x) : 0.01115649 |f(a) : 0.05980810 |\n",
            "|k: 5|a : 0.609375 |b : 0.65 |x : 0.62968750 |f(x) : -0.01203858 |f(a) : 0.01115649 |\n",
            "|k: 6|a : 0.609375 |b : 0.6296875 |x : 0.61953125 |f(x) : -0.00053688 |f(a) : 0.01115649 |\n",
            "|k: 7|a : 0.609375 |b : 0.61953125 |x : 0.61445313 |f(x) : 0.00528597 |f(a) : 0.01115649 |\n"
          ]
        },
        {
          "output_type": "execute_result",
          "data": {
            "text/plain": [
              "0.6169921875"
            ]
          },
          "metadata": {},
          "execution_count": 8
        }
      ],
      "source": [
        "import math\n",
        "# Método de Bisseção \n",
        "# [a,b] = intervalo\n",
        "# e = tolerância de erro\n",
        "# N = número de iterações\n",
        "# f = função\n",
        "\n",
        "#f = lambda x: (x**10)-1\n",
        "f = lambda x: (math.e**x) - (3*x)\n",
        "\n",
        "def bissecao(a, b, f, e):\n",
        "    \n",
        "    if ((b - a) < e):\n",
        "      x = (a + b)/2\n",
        "      return x\n",
        "    \n",
        "    k = 0\n",
        "    \n",
        "    while((b - a) > e):\n",
        "  \n",
        "        M = f(a)\n",
        "        x = (a + b)/2\n",
        "\n",
        "        print(f'|k: {k}|a : {a} |b : {b} |x : {x:,.8f} |f(x) : {f(x):,.8f} |f(a) : {M:,.8f} |')\n",
        "\n",
        "        if ((M * f(x)) > 0 ):\n",
        "            a = x\n",
        "            if((b - a) < e):\n",
        "              x = (a + b)/2\n",
        "              return x\n",
        "        else:\n",
        "            b = x    \n",
        "        k = k + 1\n",
        "\n",
        "bissecao(0,1.3,f,0.01)"
      ]
    },
    {
      "cell_type": "markdown",
      "metadata": {
        "id": "Z8KF50mtH1Me"
      },
      "source": [
        "### Método da Falsa Posição"
      ]
    },
    {
      "cell_type": "code",
      "execution_count": 9,
      "metadata": {
        "colab": {
          "base_uri": "https://localhost:8080/"
        },
        "id": "FjBze-0JMvke",
        "outputId": "fdddce69-20ed-4de3-8dbc-cfbd20ba916f"
      },
      "outputs": [
        {
          "output_type": "stream",
          "name": "stdout",
          "text": [
            "k: 0|a : 0 | b : 1.3 |x : 1.05630656 |f(x) : -0.29318967 \n",
            "k: 1|a : 0 | b : 1.0563065572311334 |x : 0.81682261 |f(x) : -0.18717081 \n",
            "k: 2|a : 0 | b : 0.8168226095885525 |x : 0.68804135 |f(x) : -0.07430969 \n",
            "k: 3|a : 0 | b : 0.6880413543784871 |x : 0.64044973 |f(x) : -0.02401522 \n",
            "k: 4|a : 0 | b : 0.6404497330324169 |x : 0.62542990 |f(x) : -0.00724041 \n"
          ]
        },
        {
          "output_type": "execute_result",
          "data": {
            "text/plain": [
              "0.6254298977713656"
            ]
          },
          "metadata": {},
          "execution_count": 9
        }
      ],
      "source": [
        "import math\n",
        "# Método da Falsa Posição\n",
        "# [a,b] = intervalo\n",
        "# e1 , e2 = tolerância de erro\n",
        "# N = número de iterações\n",
        "# f = função\n",
        "\n",
        "#f = lambda x: (x**10)-1\n",
        "f = lambda x: (math.e**x) - (3*x)\n",
        "\n",
        "def falsa_posicao(f,a,b,e):\n",
        "\n",
        "    if( (b - a) < e ):\n",
        "      x = (a*f(b) - b*f(a)) / (f(b) - f(a))\n",
        "      return x\n",
        "    \n",
        "    k = 0\n",
        "    while((b - a) > e):\n",
        "        M = f(a)\n",
        "        x = (a*f(b) - b*f(a)) / (f(b) - f(a))\n",
        "        print(f'k: {k}|a : {a} | b : {b} |x : {x:,.8f} |f(x) : {f(x):,.8f} ')\n",
        "\n",
        "        if(math.fabs(f(x)) < e):\n",
        "          x = (a*f(b) - b*f(a)) / (f(b) - f(a))\n",
        "          return x\n",
        "        \n",
        "        if( M * f(x) > 0 ):\n",
        "            a = x\n",
        "            if( (b - a) < e ):\n",
        "               x = (a*f(b) - b*f(a)) / (f(b) - f(a))\n",
        "               return x\n",
        "        else:\n",
        "            b = x\n",
        "        k = k + 1\n",
        "\n",
        "falsa_posicao(f,0,1.3,0.01)\n"
      ]
    }
  ],
  "metadata": {
    "colab": {
      "collapsed_sections": [],
      "name": "Metodo_Bissecao_FalsaPosicao.ipynb",
      "provenance": []
    },
    "kernelspec": {
      "display_name": "Python 3",
      "name": "python3"
    },
    "language_info": {
      "name": "python"
    }
  },
  "nbformat": 4,
  "nbformat_minor": 0
}