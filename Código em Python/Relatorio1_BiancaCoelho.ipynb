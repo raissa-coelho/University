{
  "nbformat": 4,
  "nbformat_minor": 0,
  "metadata": {
    "colab": {
      "name": "Relatorio1_BiancaCoelho.ipynb",
      "provenance": [],
      "collapsed_sections": [],
      "toc_visible": true
    },
    "kernelspec": {
      "name": "python3",
      "display_name": "Python 3"
    },
    "language_info": {
      "name": "python"
    }
  },
  "cells": [
    {
      "cell_type": "markdown",
      "source": [
        "# Relatório 1\n",
        "Bianca Nunes Coelho <br>\n",
        "15102880"
      ],
      "metadata": {
        "id": "LKxkB6xsJYOo"
      }
    },
    {
      "cell_type": "markdown",
      "source": [
        "##Bibliotecas"
      ],
      "metadata": {
        "id": "n9gHzJp1JuEE"
      }
    },
    {
      "cell_type": "code",
      "execution_count": 459,
      "metadata": {
        "id": "oNvY6w_MJT-M"
      },
      "outputs": [],
      "source": [
        "from __future__ import division\n",
        "import math\n",
        "import matplotlib.pyplot as plt\n",
        "from matplotlib.ticker import MultipleLocator as ML\n",
        "import numpy as np\n",
        "from sympy import *"
      ]
    },
    {
      "cell_type": "markdown",
      "source": [
        "## Funções e Métodos\n",
        "\n",
        "Os métodos Secante, Bisseção e Falsa Posição possuem apenas um código, em que há uma variavel N que determina se há limite de iterações. Quando N = 0, a função é delimitada pela tolerância. Quando N > 0, a função é delimitada pleo número de iterações. O método Newton-Raphson é o único em que códigos separados. <br>\n",
        "Em todos os métodos foi delimitado apenas 10 casas após a vírgula."
      ],
      "metadata": {
        "id": "mnD1M99pKtXV"
      }
    },
    {
      "cell_type": "code",
      "source": [
        "##FUNÇÃO QUESTÃO 1\n",
        "f_ex1 = lambda x: (x**4)-2*(x**3)-4*(x**2)+4*x+4\n",
        "\n",
        "##FUNÇÃO QUESTÃO 2 \n",
        "f_ex2 = lambda x: (x**5)-(10/9)*(x**3)+(5/21)*x\n",
        "  ##Função e derivada para o Método Newton-Raphson\n",
        "y = Symbol('y')\n",
        "fex2 = (y**5)-(10/9)*(y**3)+(5/21)*y\n",
        "df1_ex2 = fex2.diff(y)\n",
        "f2 = lambdify(y,fex2)\n",
        "dif2 = lambdify(y, df1_ex2)\n",
        "\n",
        "##FUNÇÃO QUESTÃO 3\n",
        "f_ex3 = lambda x: math.log(x**2)-0.7\n",
        "\n",
        "##FUNÇÃO QUESTÃO 4\n",
        "y = Symbol('y')\n",
        "f_ex4 = lambda x: (x**3)-6*(x**2)+11*x-6.1\n",
        "  ##Função e derivada para o Método Newton-Raphson\n",
        "fex4 = (y**3)-6*(y**2)+11*y-(6.1)\n",
        "df1_ex4 = fex4.diff(y)\n",
        "f4 = lambdify(y,fex4)\n",
        "dif4 = lambdify(y, df1_ex4)"
      ],
      "metadata": {
        "id": "xrmV3VwMKwgH"
      },
      "execution_count": 460,
      "outputs": []
    },
    {
      "cell_type": "markdown",
      "source": [
        "###Método da Secante"
      ],
      "metadata": {
        "id": "41B-W8-9Psy9"
      }
    },
    {
      "cell_type": "code",
      "source": [
        "#Método da Secante\n",
        "# f = função\n",
        "# x0 = aproximação inicial\n",
        "# x1 = aproximação inicial\n",
        "# e = tolerância\n",
        "# N = número de iterações\n",
        "\n",
        "def secante(f,x0,x1,e,N):\n",
        "   \n",
        "   if(math.fabs(f(x0)) < e):\n",
        "     x = x0\n",
        "     return x\n",
        "\n",
        "   if(math.fabs(x1) < e) or (math.fabs(x1 - x0) < e):\n",
        "      x = x1\n",
        "      return x\n",
        "\n",
        "   k = 0\n",
        "   if N == 0:\n",
        "\n",
        "    while( math.fabs(f(x0)) > e ):\n",
        "        x2 = x1 -( (f(x1)/(f(x1) - f(x0))) * (x1-x0) )\n",
        "\n",
        "        print(f'k: {k} | x: {x0:,.10f} |')\n",
        "\n",
        "        if(math.fabs(x2) < e) or (math.fabs(x2 - x1) < e):\n",
        "          x = x2\n",
        "          return x\n",
        "        else:\n",
        "          x0 = x1\n",
        "          x1 = x2\n",
        "      \n",
        "        k = k + 1\n",
        "    \n",
        "   else:\n",
        "      while(k <= N):\n",
        "        x2 = x1 -( (f(x1)/(f(x1) - f(x0))) * (x1-x0) )\n",
        "\n",
        "        print(f'k: {k} | x: {x0:,.10f} |')\n",
        "\n",
        "        if(math.fabs(x2) < e) or (math.fabs(x2 - x1) < e):\n",
        "          x = x2\n",
        "          return x\n",
        "        else:\n",
        "          x0 = x1\n",
        "          x1 = x2\n",
        "      \n",
        "        k = k + 1"
      ],
      "metadata": {
        "id": "JMTNW1kePxHw"
      },
      "execution_count": 461,
      "outputs": []
    },
    {
      "cell_type": "markdown",
      "source": [
        "###Método de Newton-Raphson"
      ],
      "metadata": {
        "id": "R6ZhzyIdOubw"
      }
    },
    {
      "cell_type": "code",
      "source": [
        "#Método de Newton-Raphson\n",
        "# f = função\n",
        "# df1 = primeira derivada\n",
        "# x0 = aproximação inicial\n",
        "# e = tolerância\n",
        "# N = número de iterações\n",
        "\n",
        "def NR(f,df1,x0,e):\n",
        "    if ( math.fabs(f(x0)) < e):\n",
        "       x = x0\n",
        "       return x\n",
        "    \n",
        "    k = 0\n",
        "    while(  math.fabs(f(x0) ) > e):\n",
        "        x1 = x0 - ( f(x0) / df1(x0))\n",
        "\n",
        "        print(f'k: {k} | x: {x0:,.10f} | f(x): {f(x0):,.10f}')\n",
        "\n",
        "        if( math.fabs(f(x1)) < e or math.fabs(x1 - x0) < e):\n",
        "            x = x1\n",
        "            return x\n",
        "        else:\n",
        "            x0 = x1\n",
        "        k = k + 1"
      ],
      "metadata": {
        "id": "tYoijv1mO9-E"
      },
      "execution_count": 462,
      "outputs": []
    },
    {
      "cell_type": "code",
      "source": [
        "def NR_N(f,df1,x0,e,N):\n",
        "    if ( math.fabs(f(x0)) < e):\n",
        "       x = x0\n",
        "       return x\n",
        "    \n",
        "    k = 0\n",
        "    while( k <= N ):\n",
        "        x1 = x0 - ( f(x0) / df1(x0))\n",
        "\n",
        "        print(f'k: {k} | x: {x0:,.10f} | f(x): {f(x0):,.10f}')\n",
        "\n",
        "        if( math.fabs(f(x1)) < e or math.fabs(x1 - x0) < e):\n",
        "            x = x1\n",
        "            return x\n",
        "        else:\n",
        "            x0 = x1\n",
        "        k = k + 1"
      ],
      "metadata": {
        "id": "gB2RPxH3IBHL"
      },
      "execution_count": 463,
      "outputs": []
    },
    {
      "cell_type": "markdown",
      "source": [
        "### Método de Bisseção"
      ],
      "metadata": {
        "id": "pS7j8zgXKPQt"
      }
    },
    {
      "cell_type": "code",
      "source": [
        "# Método de Bisseção\n",
        "# [a,b] = intervalo\n",
        "# e = tolerância de erro\n",
        "# N = número de iterações\n",
        "# f = função\n",
        "\n",
        "def bissecao(a, b, f, e, N):\n",
        "    if ((b - a) < e):\n",
        "      x = (a + b)/2\n",
        "      return x\n",
        "    \n",
        "    k = 0\n",
        "    \n",
        "    if N == 0:\n",
        "\n",
        "      while((b - a) > e):\n",
        "  \n",
        "          M = f(a)\n",
        "          x = (a + b)/2\n",
        "\n",
        "          print(f'|k: {k}|a : {a:,.10f} |b : {b:,.10f} |x : {x:,.10f} |f(x) : {f(x):,.10f} |f(a) : {M:,.10f} |')\n",
        "\n",
        "          if ((M * f(x)) > 0 ):\n",
        "              a = x\n",
        "              if((b - a) < e):\n",
        "                x = (a + b)/2\n",
        "                return x\n",
        "          else:\n",
        "              b = x    \n",
        "          k = k + 1\n",
        "    else:\n",
        "       while(k <= N):\n",
        "  \n",
        "          M = f(a)\n",
        "          x = (a + b)/2\n",
        "\n",
        "          print(f'|k: {k}|a : {a:,.10f} |b : {b:,.10f} |x : {x:,.10f} |f(x) : {f(x):,.10f} |f(a) : {M:,.10f} |')\n",
        "\n",
        "          if ((M * f(x)) > 0 ):\n",
        "              a = x\n",
        "              if((b - a) < e):\n",
        "                x = (a + b)/2\n",
        "                return x\n",
        "          else:\n",
        "              b = x    \n",
        "          k = k + 1"
      ],
      "metadata": {
        "id": "9CLYxmGcKWLb"
      },
      "execution_count": 464,
      "outputs": []
    },
    {
      "cell_type": "markdown",
      "source": [
        "### Método da Falsa Posição"
      ],
      "metadata": {
        "id": "02k-MI9IMMUf"
      }
    },
    {
      "cell_type": "code",
      "source": [
        "# Método da Falsa Posição\n",
        "# [a,b] = intervalo\n",
        "# e1 , e2 = tolerância de erro\n",
        "# N = número de iterações\n",
        "# f = função\n",
        "\n",
        "def falsa_posicao(f,a,b,e,N):\n",
        "\n",
        "    if( (b - a) < e ):\n",
        "      x = (a*f(b) - b*f(a)) / (f(b) - f(a))\n",
        "      return x\n",
        "    \n",
        "    k = 0\n",
        "\n",
        "    if N == 0:\n",
        "      while((b - a) > e):\n",
        "          M = f(a)\n",
        "          x = (a*f(b) - b*f(a)) / (f(b) - f(a))\n",
        "          print(f'k: {k}|a : {a:,.10f} | b : {b:,.10f} |x : {x:,.10f} |f(x) : {f(x):,.10f} ')\n",
        "\n",
        "          if(math.fabs(f(x)) < e):\n",
        "            x = (a*f(b) - b*f(a)) / (f(b) - f(a))\n",
        "            return x\n",
        "        \n",
        "          if( M * f(x) > 0 ):\n",
        "              a = x\n",
        "              if( (b - a) < e ):\n",
        "                x = (a*f(b) - b*f(a)) / (f(b) - f(a))\n",
        "                return x\n",
        "          else:\n",
        "            b = x\n",
        "          k = k + 1\n",
        "    else:\n",
        "        while(k <= N):\n",
        "          M = f(a)\n",
        "          x = (a*f(b) - b*f(a)) / (f(b) - f(a))\n",
        "          print(f'k: {k}|a : {a:,.10f} | b : {b:,.10f} |x : {x:,.10f} |f(x) : {f(x):,.10f} ')\n",
        "\n",
        "          if(math.fabs(f(x)) < e):\n",
        "            x = (a*f(b) - b*f(a)) / (f(b) - f(a))\n",
        "            return x\n",
        "        \n",
        "          if( M * f(x) > 0 ):\n",
        "              a = x\n",
        "              if( (b - a) < e ):\n",
        "                x = (a*f(b) - b*f(a)) / (f(b) - f(a))\n",
        "                return x\n",
        "          else:\n",
        "            b = x\n",
        "          k = k + 1"
      ],
      "metadata": {
        "id": "eM1ReqqlMRcJ"
      },
      "execution_count": 465,
      "outputs": []
    },
    {
      "cell_type": "markdown",
      "source": [
        "# QUESTÕES"
      ],
      "metadata": {
        "id": "40D6gzn2U5o4"
      }
    },
    {
      "cell_type": "markdown",
      "source": [
        "## QUESTÃO 1"
      ],
      "metadata": {
        "id": "OA1s4jo8UtbY"
      }
    },
    {
      "cell_type": "code",
      "source": [
        "## a) [-2 , -1]\n",
        "\n",
        "print(\"BISSEÇÃO\")\n",
        "bissecao(-2,-1,f_ex1,0.01,0)\n"
      ],
      "metadata": {
        "id": "kBKeLptrU8xH",
        "colab": {
          "base_uri": "https://localhost:8080/"
        },
        "outputId": "e3374cf4-a6ae-48ce-e7f8-59c5b578c1fa"
      },
      "execution_count": 466,
      "outputs": [
        {
          "output_type": "stream",
          "name": "stdout",
          "text": [
            "BISSEÇÃO\n",
            "|k: 0|a : -2.0000000000 |b : -1.0000000000 |x : -1.5000000000 |f(x) : 0.8125000000 |f(a) : 12.0000000000 |\n",
            "|k: 1|a : -1.5000000000 |b : -1.0000000000 |x : -1.2500000000 |f(x) : -0.9023437500 |f(a) : 0.8125000000 |\n",
            "|k: 2|a : -1.5000000000 |b : -1.2500000000 |x : -1.3750000000 |f(x) : -0.2888183594 |f(a) : 0.8125000000 |\n",
            "|k: 3|a : -1.5000000000 |b : -1.3750000000 |x : -1.4375000000 |f(x) : 0.1953277588 |f(a) : 0.8125000000 |\n",
            "|k: 4|a : -1.4375000000 |b : -1.3750000000 |x : -1.4062500000 |f(x) : -0.0626668930 |f(a) : 0.1953277588 |\n",
            "|k: 5|a : -1.4375000000 |b : -1.4062500000 |x : -1.4218750000 |f(x) : 0.0622625947 |f(a) : 0.1953277588 |\n",
            "|k: 6|a : -1.4218750000 |b : -1.4062500000 |x : -1.4140625000 |f(x) : -0.0012081228 |f(a) : 0.0622625947 |\n"
          ]
        }
      ]
    },
    {
      "cell_type": "code",
      "source": [
        "print(\"FALSA POSIÇÃO\")\n",
        "falsa_posicao(f_ex1,-2,-1,0.01,0)"
      ],
      "metadata": {
        "colab": {
          "base_uri": "https://localhost:8080/"
        },
        "id": "FhRDS64qZEec",
        "outputId": "da18bd1a-5dea-40e2-ecab-bea8a4dbf59b"
      },
      "execution_count": 467,
      "outputs": [
        {
          "output_type": "stream",
          "name": "stdout",
          "text": [
            "FALSA POSIÇÃO\n",
            "k: 0|a : -2.0000000000 | b : -1.0000000000 |x : -1.0769230769 |f(x) : -1.1037428661 \n",
            "k: 1|a : -2.0000000000 | b : -1.0769230769 |x : -1.1546748750 |f(x) : -1.0951798970 \n",
            "k: 2|a : -2.0000000000 | b : -1.1546748750 |x : -1.2253713519 |f(x) : -0.9731421783 \n",
            "k: 3|a : -2.0000000000 | b : -1.2253713519 |x : -1.2834778460 |f(x) : -0.7809393493 \n",
            "k: 4|a : -2.0000000000 | b : -1.2834778460 |x : -1.3272586926 |f(x) : -0.5759683313 \n",
            "k: 5|a : -2.0000000000 | b : -1.3272586926 |x : -1.3580696551 |f(x) : -0.3985324945 \n",
            "k: 6|a : -2.0000000000 | b : -1.3580696551 |x : -1.3787035568 |f(x) : -0.2636340145 \n",
            "k: 7|a : -2.0000000000 | b : -1.3787035568 |x : -1.3920597019 |f(x) : -0.1692230258 \n",
            "k: 8|a : -2.0000000000 | b : -1.3920597019 |x : -1.4005136103 |f(x) : -0.1065251685 \n",
            "k: 9|a : -2.0000000000 | b : -1.4005136103 |x : -1.4057884838 |f(x) : -0.0662350449 \n",
            "k: 10|a : -2.0000000000 | b : -1.4057884838 |x : -1.4090502823 |f(x) : -0.0408678054 \n",
            "k: 11|a : -2.0000000000 | b : -1.4090502823 |x : -1.4110560196 |f(x) : -0.0250962237 \n",
            "k: 12|a : -2.0000000000 | b : -1.4110560196 |x : -1.4122851382 |f(x) : -0.0153661423 \n",
            "k: 13|a : -2.0000000000 | b : -1.4122851382 |x : -1.4130367516 |f(x) : -0.0093916683 \n"
          ]
        },
        {
          "output_type": "execute_result",
          "data": {
            "text/plain": [
              "-1.4130367516267872"
            ]
          },
          "metadata": {},
          "execution_count": 467
        }
      ]
    },
    {
      "cell_type": "markdown",
      "source": [
        "Pelo método da Bisseção a raíz neste intervalo não foi encontrada.<br>\n",
        "Pelo método da Falsa Posição, a raíz encontrada foi -1.4130367516267872"
      ],
      "metadata": {
        "id": "tBmAV6GAW2a8"
      }
    },
    {
      "cell_type": "code",
      "source": [
        "## b) [0 , 2]\n",
        "\n",
        "print(\"BISSEÇÃO\")\n",
        "bissecao(0,2,f_ex1,0.01,0)"
      ],
      "metadata": {
        "colab": {
          "base_uri": "https://localhost:8080/"
        },
        "id": "NkyFnUGqaBrF",
        "outputId": "bab13d15-ff8f-49b9-a305-ce18a35068cc"
      },
      "execution_count": 468,
      "outputs": [
        {
          "output_type": "stream",
          "name": "stdout",
          "text": [
            "BISSEÇÃO\n",
            "|k: 0|a : 0.0000000000 |b : 2.0000000000 |x : 1.0000000000 |f(x) : 3.0000000000 |f(a) : 4.0000000000 |\n",
            "|k: 1|a : 1.0000000000 |b : 2.0000000000 |x : 1.5000000000 |f(x) : -0.6875000000 |f(a) : 3.0000000000 |\n",
            "|k: 2|a : 1.0000000000 |b : 1.5000000000 |x : 1.2500000000 |f(x) : 1.2851562500 |f(a) : 3.0000000000 |\n",
            "|k: 3|a : 1.2500000000 |b : 1.5000000000 |x : 1.3750000000 |f(x) : 0.3127441406 |f(a) : 1.2851562500 |\n",
            "|k: 4|a : 1.3750000000 |b : 1.5000000000 |x : 1.4375000000 |f(x) : -0.1865081787 |f(a) : 0.3127441406 |\n",
            "|k: 5|a : 1.3750000000 |b : 1.4375000000 |x : 1.4062500000 |f(x) : 0.0636758804 |f(a) : 0.3127441406 |\n",
            "|k: 6|a : 1.4062500000 |b : 1.4375000000 |x : 1.4218750000 |f(x) : -0.0613183379 |f(a) : 0.0636758804 |\n",
            "|k: 7|a : 1.4062500000 |b : 1.4218750000 |x : 1.4140625000 |f(x) : 0.0012084879 |f(a) : 0.0636758804 |\n"
          ]
        },
        {
          "output_type": "execute_result",
          "data": {
            "text/plain": [
              "1.41796875"
            ]
          },
          "metadata": {},
          "execution_count": 468
        }
      ]
    },
    {
      "cell_type": "code",
      "source": [
        "print(\"FALSA POSIÇÃO\")\n",
        "falsa_posicao(f_ex1,0,2,0.01,0)"
      ],
      "metadata": {
        "colab": {
          "base_uri": "https://localhost:8080/"
        },
        "id": "etKV7dNaYuYv",
        "outputId": "2fadd1f7-863f-40a4-887d-b94d6dcb5bee"
      },
      "execution_count": 469,
      "outputs": [
        {
          "output_type": "stream",
          "name": "stdout",
          "text": [
            "FALSA POSIÇÃO\n",
            "k: 0|a : 0.0000000000 | b : 2.0000000000 |x : 1.0000000000 |f(x) : 3.0000000000 \n",
            "k: 1|a : 1.0000000000 | b : 2.0000000000 |x : 1.4285714286 |f(x) : -0.1149521033 \n",
            "k: 2|a : 1.0000000000 | b : 1.4285714286 |x : 1.4127557160 |f(x) : 0.0116617282 \n",
            "k: 3|a : 1.4127557160 | b : 1.4285714286 |x : 1.4142124174 |f(x) : 0.0000091600 \n"
          ]
        },
        {
          "output_type": "execute_result",
          "data": {
            "text/plain": [
              "1.4142124173754627"
            ]
          },
          "metadata": {},
          "execution_count": 469
        }
      ]
    },
    {
      "cell_type": "markdown",
      "source": [
        "Pelo método da Bisseção a raíz neste intervalo é 1.41796875. <br>\n",
        "Pelo método da Falsa Posição, a raíz encontrada foi 1.4142124173754627."
      ],
      "metadata": {
        "id": "NnVeCoNVX23H"
      }
    },
    {
      "cell_type": "code",
      "source": [
        "## c) [2 , 3]\n",
        "print(\"BISSEÇÃO\")\n",
        "bissecao(2,3,f_ex1,0.01,0)"
      ],
      "metadata": {
        "colab": {
          "base_uri": "https://localhost:8080/"
        },
        "id": "3tOcPlDCaDL2",
        "outputId": "31bdc0fc-9573-4e4f-d841-7fd9d672941f"
      },
      "execution_count": 470,
      "outputs": [
        {
          "output_type": "stream",
          "name": "stdout",
          "text": [
            "BISSEÇÃO\n",
            "|k: 0|a : 2.0000000000 |b : 3.0000000000 |x : 2.5000000000 |f(x) : -3.1875000000 |f(a) : -4.0000000000 |\n",
            "|k: 1|a : 2.5000000000 |b : 3.0000000000 |x : 2.7500000000 |f(x) : 0.3476562500 |f(a) : -3.1875000000 |\n",
            "|k: 2|a : 2.5000000000 |b : 2.7500000000 |x : 2.6250000000 |f(x) : -1.7575683594 |f(a) : -3.1875000000 |\n",
            "|k: 3|a : 2.6250000000 |b : 2.7500000000 |x : 2.6875000000 |f(x) : -0.7956390381 |f(a) : -1.7575683594 |\n",
            "|k: 4|a : 2.6875000000 |b : 2.7500000000 |x : 2.7187500000 |f(x) : -0.2474660873 |f(a) : -0.7956390381 |\n",
            "|k: 5|a : 2.7187500000 |b : 2.7500000000 |x : 2.7343750000 |f(x) : 0.0441246629 |f(a) : -0.2474660873 |\n",
            "|k: 6|a : 2.7187500000 |b : 2.7343750000 |x : 2.7265625000 |f(x) : -0.1031505428 |f(a) : -0.2474660873 |\n"
          ]
        },
        {
          "output_type": "execute_result",
          "data": {
            "text/plain": [
              "2.73046875"
            ]
          },
          "metadata": {},
          "execution_count": 470
        }
      ]
    },
    {
      "cell_type": "code",
      "source": [
        "print(\"FALSA POSIÇÃO\")\n",
        "falsa_posicao(f_ex1,2,3,0.01,0)"
      ],
      "metadata": {
        "colab": {
          "base_uri": "https://localhost:8080/"
        },
        "id": "UbyMKdfIZQK9",
        "outputId": "6851aaba-cf6d-4f50-be8b-dd287df96057"
      },
      "execution_count": 471,
      "outputs": [
        {
          "output_type": "stream",
          "name": "stdout",
          "text": [
            "FALSA POSIÇÃO\n",
            "k: 0|a : 2.0000000000 | b : 3.0000000000 |x : 2.3636363636 |f(x) : -4.0907041869 \n",
            "k: 1|a : 2.3636363636 | b : 3.0000000000 |x : 2.5983532353 |f(x) : -2.1156589193 \n",
            "k: 2|a : 2.5983532353 | b : 3.0000000000 |x : 2.6915716815 |f(x) : -0.7268183789 \n",
            "k: 3|a : 2.6915716815 | b : 3.0000000000 |x : 2.7205838000 |f(x) : -0.2138558955 \n",
            "k: 4|a : 2.7205838000 | b : 3.0000000000 |x : 2.7288671373 |f(x) : -0.0600142116 \n",
            "k: 5|a : 2.7288671373 | b : 3.0000000000 |x : 2.7311719237 |f(x) : -0.0166168565 \n",
            "k: 6|a : 2.7311719237 | b : 3.0000000000 |x : 2.7318085664 |f(x) : -0.0045837592 \n"
          ]
        },
        {
          "output_type": "execute_result",
          "data": {
            "text/plain": [
              "2.7318085663801774"
            ]
          },
          "metadata": {},
          "execution_count": 471
        }
      ]
    },
    {
      "cell_type": "markdown",
      "source": [
        "Pelo método da Bisseção a raíz neste intervalo é 2.73046875.<br>\n",
        "Pelo método da Falsa Posição, 2.7318085663801774"
      ],
      "metadata": {
        "id": "O7G4uSZmYCXo"
      }
    },
    {
      "cell_type": "code",
      "source": [
        "## d) [-1 , 0]\n",
        "print(\"BISSEÇÃO\")\n",
        "bissecao(-1,0,f_ex1,0.01,0)"
      ],
      "metadata": {
        "colab": {
          "base_uri": "https://localhost:8080/"
        },
        "id": "Wv8bbtgoaEgv",
        "outputId": "9de15ecb-ef42-4df2-e2a6-6a669c6ed3cf"
      },
      "execution_count": 472,
      "outputs": [
        {
          "output_type": "stream",
          "name": "stdout",
          "text": [
            "BISSEÇÃO\n",
            "|k: 0|a : -1.0000000000 |b : 0.0000000000 |x : -0.5000000000 |f(x) : 1.3125000000 |f(a) : -1.0000000000 |\n",
            "|k: 1|a : -1.0000000000 |b : -0.5000000000 |x : -0.7500000000 |f(x) : -0.0898437500 |f(a) : -1.0000000000 |\n",
            "|k: 2|a : -0.7500000000 |b : -0.5000000000 |x : -0.6250000000 |f(x) : 0.5783691406 |f(a) : -0.0898437500 |\n",
            "|k: 3|a : -0.7500000000 |b : -0.6250000000 |x : -0.6875000000 |f(x) : 0.2326812744 |f(a) : -0.0898437500 |\n",
            "|k: 4|a : -0.7500000000 |b : -0.6875000000 |x : -0.7187500000 |f(x) : 0.0680856705 |f(a) : -0.0898437500 |\n",
            "|k: 5|a : -0.7500000000 |b : -0.7187500000 |x : -0.7343750000 |f(x) : -0.0117682815 |f(a) : -0.0898437500 |\n",
            "|k: 6|a : -0.7343750000 |b : -0.7187500000 |x : -0.7265625000 |f(x) : 0.0279434361 |f(a) : -0.0117682815 |\n"
          ]
        }
      ]
    },
    {
      "cell_type": "code",
      "source": [
        "print(\"FALSA POSIÇÃO\")\n",
        "falsa_posicao(f_ex1,-1,0,0.01,0)"
      ],
      "metadata": {
        "colab": {
          "base_uri": "https://localhost:8080/"
        },
        "id": "8NrvaDVzZg5H",
        "outputId": "d281b318-ffd0-44e5-c925-fdddf0d3a5e8"
      },
      "execution_count": 473,
      "outputs": [
        {
          "output_type": "stream",
          "name": "stdout",
          "text": [
            "FALSA POSIÇÃO\n",
            "k: 0|a : -1.0000000000 | b : 0.0000000000 |x : -0.8000000000 |f(x) : -0.3264000000 \n",
            "k: 1|a : -0.8000000000 | b : 0.0000000000 |x : -0.7396449704 |f(x) : -0.0383058284 \n",
            "k: 2|a : -0.7396449704 | b : 0.0000000000 |x : -0.7326289804 |f(x) : -0.0029311682 \n"
          ]
        },
        {
          "output_type": "execute_result",
          "data": {
            "text/plain": [
              "-0.7326289804173365"
            ]
          },
          "metadata": {},
          "execution_count": 473
        }
      ]
    },
    {
      "cell_type": "markdown",
      "source": [
        "Pelo método da Bisseção a raíz neste intervalo não foi encontrada.<br>\n",
        "Pelo método da Falsa Posição, -0.7326289804173365"
      ],
      "metadata": {
        "id": "ZSAZtVehYJXl"
      }
    },
    {
      "cell_type": "markdown",
      "source": [
        "## QUESTÃO 2"
      ],
      "metadata": {
        "id": "pJcAkQ45VIhy"
      }
    },
    {
      "cell_type": "code",
      "source": [
        "## x1 NR x0 = -0.8\n",
        "print(\"NEWTON-RAPHSON\")\n",
        "NR(f2,dif2,-0.8,0.00001)\n"
      ],
      "metadata": {
        "id": "ec1slz1MVIhz",
        "colab": {
          "base_uri": "https://localhost:8080/"
        },
        "outputId": "95c105d1-7ba2-4d71-b87e-40f3d7c5fade"
      },
      "execution_count": 474,
      "outputs": [
        {
          "output_type": "stream",
          "name": "stdout",
          "text": [
            "NEWTON-RAPHSON\n",
            "k: 0 | x: -0.8000000000 | f(x): 0.0507326984\n",
            "k: 1 | x: -1.1321030756 | f(x): -0.5170055646\n",
            "k: 2 | x: -1.0083918479 | f(x): -0.1434433645\n",
            "k: 3 | x: -0.9373290247 | f(x): -0.0316833495\n",
            "k: 4 | x: -0.9102270106 | f(x): -0.0036037201\n",
            "k: 5 | x: -0.9062605813 | f(x): -0.0000704642\n"
          ]
        },
        {
          "output_type": "execute_result",
          "data": {
            "text/plain": [
              "-0.9061798789481778"
            ]
          },
          "metadata": {},
          "execution_count": 474
        }
      ]
    },
    {
      "cell_type": "markdown",
      "source": [
        "X1: -0.9061798789481778"
      ],
      "metadata": {
        "id": "44t979zHbsdx"
      }
    },
    {
      "cell_type": "code",
      "source": [
        "## x2 B [-0.75,-0.25]\n",
        "print(\"BISSEÇÃO\")\n",
        "bissecao(-0.75,-0.25,f_ex2,0.00001,0)"
      ],
      "metadata": {
        "colab": {
          "base_uri": "https://localhost:8080/"
        },
        "id": "oA75GnWQeohG",
        "outputId": "30058dae-e067-411f-af64-8357280cc45f"
      },
      "execution_count": 475,
      "outputs": [
        {
          "output_type": "stream",
          "name": "stdout",
          "text": [
            "BISSEÇÃO\n",
            "|k: 0|a : -0.7500000000 |b : -0.2500000000 |x : -0.5000000000 |f(x) : -0.0114087302 |f(a) : 0.0528738839 |\n",
            "|k: 1|a : -0.7500000000 |b : -0.5000000000 |x : -0.6250000000 |f(x) : 0.0270904057 |f(a) : 0.0528738839 |\n",
            "|k: 2|a : -0.6250000000 |b : -0.5000000000 |x : -0.5625000000 |f(x) : 0.0075118201 |f(a) : 0.0270904057 |\n",
            "|k: 3|a : -0.5625000000 |b : -0.5000000000 |x : -0.5312500000 |f(x) : -0.0022110632 |f(a) : 0.0075118201 |\n",
            "|k: 4|a : -0.5625000000 |b : -0.5312500000 |x : -0.5468750000 |f(x) : 0.0026047980 |f(a) : 0.0075118201 |\n",
            "|k: 5|a : -0.5468750000 |b : -0.5312500000 |x : -0.5390625000 |f(x) : 0.0001828136 |f(a) : 0.0026047980 |\n",
            "|k: 6|a : -0.5390625000 |b : -0.5312500000 |x : -0.5351562500 |f(x) : -0.0010179573 |f(a) : 0.0001828136 |\n",
            "|k: 7|a : -0.5390625000 |b : -0.5351562500 |x : -0.5371093750 |f(x) : -0.0004184907 |f(a) : 0.0001828136 |\n",
            "|k: 8|a : -0.5390625000 |b : -0.5371093750 |x : -0.5380859375 |f(x) : -0.0001180633 |f(a) : 0.0001828136 |\n",
            "|k: 9|a : -0.5390625000 |b : -0.5380859375 |x : -0.5385742188 |f(x) : 0.0000323196 |f(a) : 0.0001828136 |\n",
            "|k: 10|a : -0.5385742188 |b : -0.5380859375 |x : -0.5383300781 |f(x) : -0.0000428858 |f(a) : 0.0000323196 |\n",
            "|k: 11|a : -0.5385742188 |b : -0.5383300781 |x : -0.5384521484 |f(x) : -0.0000052866 |f(a) : 0.0000323196 |\n",
            "|k: 12|a : -0.5385742188 |b : -0.5384521484 |x : -0.5385131836 |f(x) : 0.0000135157 |f(a) : 0.0000323196 |\n",
            "|k: 13|a : -0.5385131836 |b : -0.5384521484 |x : -0.5384826660 |f(x) : 0.0000041143 |f(a) : 0.0000135157 |\n",
            "|k: 14|a : -0.5384826660 |b : -0.5384521484 |x : -0.5384674072 |f(x) : -0.0000005862 |f(a) : 0.0000041143 |\n",
            "|k: 15|a : -0.5384826660 |b : -0.5384674072 |x : -0.5384750366 |f(x) : 0.0000017641 |f(a) : 0.0000041143 |\n"
          ]
        },
        {
          "output_type": "execute_result",
          "data": {
            "text/plain": [
              "-0.5384712219238281"
            ]
          },
          "metadata": {},
          "execution_count": 475
        }
      ]
    },
    {
      "cell_type": "markdown",
      "source": [
        "X2: -0.5384712219238281"
      ],
      "metadata": {
        "id": "nkMweSoRbwYF"
      }
    },
    {
      "cell_type": "code",
      "source": [
        "## x3 FP [-0.25,0.25]\n",
        "print(\"FALSA POSIÇÃO\")\n",
        "falsa_posicao(f_ex2,-0.25,0.25,0.00001,0)"
      ],
      "metadata": {
        "colab": {
          "base_uri": "https://localhost:8080/"
        },
        "id": "dk9MgxRNeuFE",
        "outputId": "60de22bd-8015-4369-da8b-c74ffd23d2ee"
      },
      "execution_count": 476,
      "outputs": [
        {
          "output_type": "stream",
          "name": "stdout",
          "text": [
            "FALSA POSIÇÃO\n",
            "k: 0|a : -0.2500000000 | b : 0.2500000000 |x : 0.0000000000 |f(x) : 0.0000000000 \n"
          ]
        },
        {
          "output_type": "execute_result",
          "data": {
            "text/plain": [
              "0.0"
            ]
          },
          "metadata": {},
          "execution_count": 476
        }
      ]
    },
    {
      "cell_type": "markdown",
      "source": [
        "X3: 0"
      ],
      "metadata": {
        "id": "7ofbzPypb2Tn"
      }
    },
    {
      "cell_type": "code",
      "source": [
        "## x5 S x0 = 0.8 e x1 = 2\n",
        "print(\"SECANTE\")\n",
        "secante(f_ex2,0.8,2,0.00001,0)"
      ],
      "metadata": {
        "colab": {
          "base_uri": "https://localhost:8080/"
        },
        "id": "_5hgh638eyQ-",
        "outputId": "05d0503d-a8b0-4fcd-bd10-b4317a4af77d"
      },
      "execution_count": 477,
      "outputs": [
        {
          "output_type": "stream",
          "name": "stdout",
          "text": [
            "SECANTE\n",
            "k: 0 | x: 0.8000000000 |\n",
            "k: 1 | x: 2.0000000000 |\n",
            "k: 2 | x: 0.8025754780 |\n",
            "k: 3 | x: 0.8051247137 |\n",
            "k: 4 | x: 1.0953243488 |\n",
            "k: 5 | x: 0.8390166659 |\n",
            "k: 6 | x: 0.8639836449 |\n",
            "k: 7 | x: 0.9293490049 |\n",
            "k: 8 | x: 0.9009197248 |\n",
            "k: 9 | x: 0.9055990909 |\n",
            "k: 10 | x: 0.9061956438 |\n"
          ]
        },
        {
          "output_type": "execute_result",
          "data": {
            "text/plain": [
              "0.9061798459349356"
            ]
          },
          "metadata": {},
          "execution_count": 477
        }
      ]
    },
    {
      "cell_type": "markdown",
      "source": [
        "X5: 0.9061798459349356"
      ],
      "metadata": {
        "id": "kXJ7xL6sb4y6"
      }
    },
    {
      "cell_type": "markdown",
      "source": [
        "## QUESTÃO 3"
      ],
      "metadata": {
        "id": "6P8VYt24VIry"
      }
    },
    {
      "cell_type": "code",
      "source": [
        "# a) Graficamente\n",
        "\n",
        "fig, fig1 = plt.subplots(figsize =(8,6))\n",
        "x = np.linspace(-10,10,100)\n",
        "y = np.log(x**2)-0.7\n",
        "\n",
        "fig1.spines['left'].set_position('center') \n",
        "fig1.spines['bottom'].set_position('center')\n",
        "fig1.spines['top'].set_color('none')  \n",
        "fig1.spines['right'].set_color('none') \n",
        "\n",
        "fig1.xaxis.set_minor_locator(ML(0.2))\n",
        "fig1.yaxis.set_minor_locator(ML(0.2))\n",
        "\n",
        "plt.plot(x,y,'r')"
      ],
      "metadata": {
        "id": "z_l5bdfBVIrz",
        "colab": {
          "base_uri": "https://localhost:8080/",
          "height": 374
        },
        "outputId": "b4a617e9-3d2e-437e-a7ab-237a419b4841"
      },
      "execution_count": 478,
      "outputs": [
        {
          "output_type": "execute_result",
          "data": {
            "text/plain": [
              "[<matplotlib.lines.Line2D at 0x7f967d1ed4d0>]"
            ]
          },
          "metadata": {},
          "execution_count": 478
        },
        {
          "output_type": "display_data",
          "data": {
            "text/plain": [
              "<Figure size 576x432 with 1 Axes>"
            ],
            "image/png": "[encoded data removed]"
          },
          "metadata": {
            "needs_background": "light"
          }
        }
      ]
    },
    {
      "cell_type": "code",
      "source": [
        "fig, fig1 = plt.subplots(figsize =(8,6))\n",
        "x = np.linspace(0.1,2,100)\n",
        "y = np.log(x**2)-0.7\n",
        "\n",
        "fig1.spines['left'].set_position('center') \n",
        "fig1.spines['bottom'].set_position('center')\n",
        "fig1.spines['top'].set_color('none')  \n",
        "fig1.spines['right'].set_color('none') \n",
        "\n",
        "fig1.xaxis.set_minor_locator(ML(0.2))\n",
        "fig1.yaxis.set_minor_locator(ML(0.2))\n",
        "\n",
        "plt.plot(x,y,'r')"
      ],
      "metadata": {
        "colab": {
          "base_uri": "https://localhost:8080/",
          "height": 374
        },
        "id": "-auwrv3ieWwq",
        "outputId": "783c5f6e-0ff3-4d0f-d9bc-d1c1e06b407a"
      },
      "execution_count": 479,
      "outputs": [
        {
          "output_type": "execute_result",
          "data": {
            "text/plain": [
              "[<matplotlib.lines.Line2D at 0x7f967cf98dd0>]"
            ]
          },
          "metadata": {},
          "execution_count": 479
        },
        {
          "output_type": "display_data",
          "data": {
            "text/plain": [
              "<Figure size 576x432 with 1 Axes>"
            ],
            "image/png": "[encoded data removed]"
          },
          "metadata": {
            "needs_background": "light"
          }
        }
      ]
    },
    {
      "cell_type": "markdown",
      "source": [
        "A maior raíz é encontrada no intervalo de [0.1 , 2], como pode ser visto nos dois gráficos acima."
      ],
      "metadata": {
        "id": "aDQtAsxPe2e1"
      }
    },
    {
      "cell_type": "code",
      "source": [
        "# b) B, N = 3 e [0.5,2.0]\n",
        "bissecao(0.5,2.0,f_ex3,0.1,3)"
      ],
      "metadata": {
        "id": "6JmmgcxAhbjB",
        "colab": {
          "base_uri": "https://localhost:8080/"
        },
        "outputId": "ef6d1e24-1a05-4a7c-fe95-2793647e9fe5"
      },
      "execution_count": 480,
      "outputs": [
        {
          "output_type": "stream",
          "name": "stdout",
          "text": [
            "|k: 0|a : 0.5000000000 |b : 2.0000000000 |x : 1.2500000000 |f(x) : -0.2537128974 |f(a) : -2.0862943611 |\n",
            "|k: 1|a : 1.2500000000 |b : 2.0000000000 |x : 1.6250000000 |f(x) : 0.2710156316 |f(a) : -0.2537128974 |\n",
            "|k: 2|a : 1.2500000000 |b : 1.6250000000 |x : 1.4375000000 |f(x) : 0.0258109874 |f(a) : -0.2537128974 |\n",
            "|k: 3|a : 1.2500000000 |b : 1.4375000000 |x : 1.3437500000 |f(x) : -0.1090715742 |f(a) : -0.2537128974 |\n"
          ]
        },
        {
          "output_type": "execute_result",
          "data": {
            "text/plain": [
              "1.390625"
            ]
          },
          "metadata": {},
          "execution_count": 480
        }
      ]
    },
    {
      "cell_type": "markdown",
      "source": [
        "Raíz achada: 1.390625"
      ],
      "metadata": {
        "id": "NHQVX4XoeE_t"
      }
    },
    {
      "cell_type": "code",
      "source": [
        "# c) FP, N = 3 e [0.5,2.0]\n",
        "falsa_posicao(f_ex3,0.5,2.0,0.1,3)"
      ],
      "metadata": {
        "id": "-b4zJLLuhjUh",
        "colab": {
          "base_uri": "https://localhost:8080/"
        },
        "outputId": "0d838e19-3c01-4278-b3df-1d797ec9b185"
      },
      "execution_count": 481,
      "outputs": [
        {
          "output_type": "stream",
          "name": "stdout",
          "text": [
            "k: 0|a : 0.5000000000 | b : 2.0000000000 |x : 1.6287074482 |f(x) : 0.2755734474 \n",
            "k: 1|a : 0.5000000000 | b : 1.6287074482 |x : 1.4970143020 |f(x) : 0.1069453184 \n",
            "k: 2|a : 0.5000000000 | b : 1.4970143020 |x : 1.4483985429 |f(x) : 0.0409169858 \n"
          ]
        },
        {
          "output_type": "execute_result",
          "data": {
            "text/plain": [
              "1.4483985429092026"
            ]
          },
          "metadata": {},
          "execution_count": 481
        }
      ]
    },
    {
      "cell_type": "markdown",
      "source": [
        "Raíz achada: 1.4483985429092026"
      ],
      "metadata": {
        "id": "ZLi_oPF7eLmJ"
      }
    },
    {
      "cell_type": "code",
      "source": [
        "# d) Compare e explique"
      ],
      "metadata": {
        "id": "5zvIJYQrhoky"
      },
      "execution_count": 482,
      "outputs": []
    },
    {
      "cell_type": "markdown",
      "source": [
        "Em ambos os métodos, com a restrição de apenas três iterações, assumindo que a tolerância é de 0.1 e considerando um intervalo de [0.5,2.0], a maior raíz foi encontrada, sendo esta perto de 1.5. Porém, a raíz encontrada do método da Bisseção foi menos precisa e levou mais iterações que a do método da Falsa Posição. Isso ocorre porque o método da Bisseção faz a média simples entre os pontos a e b, escolhendo qual ponto (a ou b) será substituido pela média simples, enquanto que a Falsa Posição faz a média ponderada entre os pontos.  "
      ],
      "metadata": {
        "id": "eBQIsi8dgxC7"
      }
    },
    {
      "cell_type": "markdown",
      "source": [
        "## QUESTÃO 4"
      ],
      "metadata": {
        "id": "Iaup3qErVI8t"
      }
    },
    {
      "cell_type": "code",
      "source": [
        "# a) Graficamente\n",
        "fig, fig1 = plt.subplots(figsize =(8,6))\n",
        "x = np.linspace(-10,10,100)\n",
        "y = (x**3)-6*(x**2)+11*x-6.1\n",
        "\n",
        "fig1.spines['left'].set_position('center') \n",
        "fig1.spines['bottom'].set_position('center')\n",
        "fig1.spines['top'].set_color('none')  \n",
        "fig1.spines['right'].set_color('none') \n",
        "\n",
        "plt.plot(x,y,'r')"
      ],
      "metadata": {
        "id": "YTFjz0GDVI8u",
        "colab": {
          "base_uri": "https://localhost:8080/",
          "height": 374
        },
        "outputId": "7bee67cf-1690-4f57-91fe-939efc5bc661"
      },
      "execution_count": 483,
      "outputs": [
        {
          "output_type": "execute_result",
          "data": {
            "text/plain": [
              "[<matplotlib.lines.Line2D at 0x7f967ce71dd0>]"
            ]
          },
          "metadata": {},
          "execution_count": 483
        },
        {
          "output_type": "display_data",
          "data": {
            "text/plain": [
              "<Figure size 576x432 with 1 Axes>"
            ],
            "image/png": "[encoded data removed]"
          },
          "metadata": {
            "needs_background": "light"
          }
        }
      ]
    },
    {
      "cell_type": "code",
      "source": [
        "# b) NR, N = 3 e x0 = 3.5\n",
        "NR_N(f4 ,dif4 ,3.5 , 0.1 , 3)"
      ],
      "metadata": {
        "id": "q1jKZWmGh38m",
        "colab": {
          "base_uri": "https://localhost:8080/"
        },
        "outputId": "8f7571ad-0d6a-45f1-e22b-de6a3a4e0a91"
      },
      "execution_count": 484,
      "outputs": [
        {
          "output_type": "stream",
          "name": "stdout",
          "text": [
            "k: 0 | x: 3.5000000000 | f(x): 1.7750000000\n",
            "k: 1 | x: 3.1913043478 | f(x): 0.3994019890\n"
          ]
        },
        {
          "output_type": "execute_result",
          "data": {
            "text/plain": [
              "3.068698821055097"
            ]
          },
          "metadata": {},
          "execution_count": 484
        }
      ]
    },
    {
      "cell_type": "code",
      "source": [
        "# c) S, N = 3, x0 = 2.5 e x1 = 3.5\n",
        "secante(f_ex4,2.5,3.5,0.1,3)"
      ],
      "metadata": {
        "id": "tTmsgBvnh9Pt",
        "colab": {
          "base_uri": "https://localhost:8080/"
        },
        "outputId": "de2ad697-0c93-4757-8420-8a486323ac17"
      },
      "execution_count": 485,
      "outputs": [
        {
          "output_type": "stream",
          "name": "stdout",
          "text": [
            "k: 0 | x: 2.5000000000 |\n",
            "k: 1 | x: 3.5000000000 |\n",
            "k: 2 | x: 2.7111111111 |\n",
            "k: 3 | x: 2.8710905035 |\n"
          ]
        }
      ]
    },
    {
      "cell_type": "code",
      "source": [
        "# d) Compare e explique"
      ],
      "metadata": {
        "id": "K2gjldUviEml"
      },
      "execution_count": 486,
      "outputs": []
    }
  ]
}