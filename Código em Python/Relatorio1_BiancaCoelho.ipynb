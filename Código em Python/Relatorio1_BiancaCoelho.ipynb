{
  "nbformat": 4,
  "nbformat_minor": 0,
  "metadata": {
    "colab": {
      "name": "Relatorio1_BiancaCoelho.ipynb",
      "provenance": [],
      "collapsed_sections": [],
      "toc_visible": true
    },
    "kernelspec": {
      "name": "python3",
      "display_name": "Python 3"
    },
    "language_info": {
      "name": "python"
    }
  },
  "cells": [
    {
      "cell_type": "markdown",
      "source": [
        "# Relatório 1\n",
        "Bianca Nunes Coelho"
      ],
      "metadata": {
        "id": "LKxkB6xsJYOo"
      }
    },
    {
      "cell_type": "markdown",
      "source": [
        "##Bibliotecas"
      ],
      "metadata": {
        "id": "n9gHzJp1JuEE"
      }
    },
    {
      "cell_type": "code",
      "execution_count": 233,
      "metadata": {
        "id": "oNvY6w_MJT-M"
      },
      "outputs": [],
      "source": [
        "import math\n",
        "import matplotlib.pyplot as plt\n",
        "import numpy as np\n",
        "from sympy import *"
      ]
    },
    {
      "cell_type": "markdown",
      "source": [
        "## Funções e Métodos"
      ],
      "metadata": {
        "id": "mnD1M99pKtXV"
      }
    },
    {
      "cell_type": "code",
      "source": [
        "##FUNÇÃO QUESTÃO 1\n",
        "f_ex1 = lambda x: (x**4)-2*(x**3)-4*(x**2)+4*x+4\n",
        "\n",
        "##FUNÇÃO QUESTÃO 2 \n",
        "f_ex2 = lambda x: (x**5)-(10/9)*(x**3)+(5/21)*x\n",
        "  ##Função e derivada para o Método Newton-Raphson\n",
        "y = Symbol('y')\n",
        "fex2 = (y**5)-(10/9)*(y**3)+(5/21)*y\n",
        "df1_ex2 = fex2.diff(y)\n",
        "\n",
        "##FUNÇÃO QUESTÃO 3\n",
        "f_ex3 = lambda x: math.log(x**2)-0.7\n",
        "\n",
        "##FUNÇÃO QUESTÃO 4\n",
        "f_ex4 = lambda x: (x**3)-6*(x**2)+11*x-6.1\n",
        "  ##Função e derivada para o Método Newton-Raphson\n",
        "y = Symbol('y')\n",
        "fex4 = (y**3)-6*(y**2)+11*y-(6.1)\n",
        "d4 = 3*(y**2) - 12*y + 11"
      ],
      "metadata": {
        "id": "xrmV3VwMKwgH"
      },
      "execution_count": 261,
      "outputs": []
    },
    {
      "cell_type": "markdown",
      "source": [
        "###Método da Secante"
      ],
      "metadata": {
        "id": "41B-W8-9Psy9"
      }
    },
    {
      "cell_type": "code",
      "source": [
        "#Método da Secante\n",
        "# f = função\n",
        "# x0 = aproximação inicial\n",
        "# x1 = aproximação inicial\n",
        "# e = tolerância\n",
        "# N = número de iterações\n",
        "\n",
        "def secante(f,x0,x1,e,N):\n",
        "   \n",
        "   if(math.fabs(f(x0)) < e):\n",
        "     x = x0\n",
        "     return x\n",
        "\n",
        "   if(math.fabs(x1) < e) or (math.fabs(x1 - x0) < e):\n",
        "      x = x1\n",
        "      return x\n",
        "\n",
        "   k = 0\n",
        "   if N == 0:\n",
        "\n",
        "    while( math.fabs(f(x0)) > e ):\n",
        "        x2 = x1 -( (f(x1)/(f(x1) - f(x0))) * (x1-x0) )\n",
        "\n",
        "        print(f'k: {k} | x: {x0:,.10f} |')\n",
        "\n",
        "        if(math.fabs(x2) < e) or (math.fabs(x2 - x1) < e):\n",
        "          x = x2\n",
        "          return x\n",
        "        else:\n",
        "          x0 = x1\n",
        "          x1 = x2\n",
        "      \n",
        "        k = k + 1\n",
        "    \n",
        "   else:\n",
        "      while(k <= N):\n",
        "        x2 = x1 -( (f(x1)/(f(x1) - f(x0))) * (x1-x0) )\n",
        "\n",
        "        print(f'k: {k} | x: {x0:,.10f} |')\n",
        "\n",
        "        if(math.fabs(x2) < e) or (math.fabs(x2 - x1) < e):\n",
        "          x = x2\n",
        "          return x\n",
        "        else:\n",
        "          x0 = x1\n",
        "          x1 = x2\n",
        "      \n",
        "        k = k + 1"
      ],
      "metadata": {
        "id": "JMTNW1kePxHw"
      },
      "execution_count": 235,
      "outputs": []
    },
    {
      "cell_type": "markdown",
      "source": [
        "###Método de Newton-Raphson"
      ],
      "metadata": {
        "id": "R6ZhzyIdOubw"
      }
    },
    {
      "cell_type": "code",
      "source": [
        "#Método de Newton-Raphson\n",
        "# f = função\n",
        "# df1 = primeira derivada\n",
        "# x0 = aproximação inicial\n",
        "# e = tolerância\n",
        "# N = número de iterações\n",
        "\n",
        "def NR(f,df1,x0,e, N):\n",
        "    if ( math.fabs(f.subs({y: x0})) < e):\n",
        "       x = x0\n",
        "       return x\n",
        "    \n",
        "    k = 0\n",
        "\n",
        "    if N == 0:\n",
        "      while(  math.fabs(f.subs({y: x0})) > e ):\n",
        "          x1 = x0 - ( f.subs({y:x0}) / df1.subs({y:x0}))\n",
        "\n",
        "          print(f'k: {k} | x: {x0:,.8f} | f(x): {f.subs({y: x0}):,.8f}')\n",
        "\n",
        "          if( math.fabs(f.subs({y: x1})) < e or math.fabs(x1 - x0) < e):\n",
        "            x = x1\n",
        "            return x\n",
        "          else:\n",
        "            x0 = x1\n",
        "        \n",
        "          k = k + 1\n",
        "    else:\n",
        "       while( k <= N ):\n",
        "          x1 = x0 - ( f.subs({y:x0}) / df1.subs({y:x0}))\n",
        "\n",
        "          print(f'k: {k} | x: {x0:,.8f} | f(x): {f.subs({y: x0}):,.8f}')\n",
        "\n",
        "          if( math.fabs(f.subs({y: x1})) < e or math.fabs(x1 - x0) < e):\n",
        "            x = x1\n",
        "            return x\n",
        "          else:\n",
        "            x0 = x1\n",
        "        \n",
        "          k = k + 1"
      ],
      "metadata": {
        "id": "tYoijv1mO9-E"
      },
      "execution_count": 254,
      "outputs": []
    },
    {
      "cell_type": "markdown",
      "source": [
        "### Método de Bisseção"
      ],
      "metadata": {
        "id": "pS7j8zgXKPQt"
      }
    },
    {
      "cell_type": "code",
      "source": [
        "# Método de Bisseção\n",
        "# [a,b] = intervalo\n",
        "# e = tolerância de erro\n",
        "# N = número de iterações\n",
        "# f = função\n",
        "\n",
        "def bissecao(a, b, f, e, N):\n",
        "    if ((b - a) < e):\n",
        "      x = (a + b)/2\n",
        "      return x\n",
        "    \n",
        "    k = 0\n",
        "    \n",
        "    if N == 0:\n",
        "\n",
        "      while((b - a) > e):\n",
        "  \n",
        "          M = f(a)\n",
        "          x = (a + b)/2\n",
        "\n",
        "          print(f'|k: {k}|a : {a} |b : {b} |x : {x} |f(x) : {f(x)} |f(a) : {M} |')\n",
        "\n",
        "          if ((M * f(x)) > 0 ):\n",
        "              a = x\n",
        "              if((b - a) < e):\n",
        "                x = (a + b)/2\n",
        "                return x\n",
        "          else:\n",
        "              b = x    \n",
        "          k = k + 1\n",
        "    else:\n",
        "       while(k <= N):\n",
        "  \n",
        "          M = f(a)\n",
        "          x = (a + b)/2\n",
        "\n",
        "          print(f'|k: {k}|a : {a} |b : {b} |x : {x} |f(x) : {f(x)} |f(a) : {M} |')\n",
        "\n",
        "          if ((M * f(x)) > 0 ):\n",
        "              a = x\n",
        "              if((b - a) < e):\n",
        "                x = (a + b)/2\n",
        "                return x\n",
        "          else:\n",
        "              b = x    \n",
        "          k = k + 1"
      ],
      "metadata": {
        "id": "9CLYxmGcKWLb"
      },
      "execution_count": 237,
      "outputs": []
    },
    {
      "cell_type": "markdown",
      "source": [
        "### Método da Falsa Posição"
      ],
      "metadata": {
        "id": "02k-MI9IMMUf"
      }
    },
    {
      "cell_type": "code",
      "source": [
        "# Método da Falsa Posição\n",
        "# [a,b] = intervalo\n",
        "# e1 , e2 = tolerância de erro\n",
        "# N = número de iterações\n",
        "# f = função\n",
        "\n",
        "def falsa_posicao(f,a,b,e,N):\n",
        "\n",
        "    if( (b - a) < e ):\n",
        "      x = (a*f(b) - b*f(a)) / (f(b) - f(a))\n",
        "      return x\n",
        "    \n",
        "    k = 0\n",
        "\n",
        "    if N == 0:\n",
        "      while((b - a) > e):\n",
        "          M = f(a)\n",
        "          x = (a*f(b) - b*f(a)) / (f(b) - f(a))\n",
        "          print(f'k: {k}|a : {a} | b : {b} |x : {x} |f(x) : {f(x)} ')\n",
        "\n",
        "          if(math.fabs(f(x)) < e):\n",
        "            x = (a*f(b) - b*f(a)) / (f(b) - f(a))\n",
        "            return x\n",
        "        \n",
        "          if( M * f(x) > 0 ):\n",
        "              a = x\n",
        "              if( (b - a) < e ):\n",
        "                x = (a*f(b) - b*f(a)) / (f(b) - f(a))\n",
        "                return x\n",
        "          else:\n",
        "            b = x\n",
        "          k = k + 1\n",
        "    else:\n",
        "        while(k <= N):\n",
        "          M = f(a)\n",
        "          x = (a*f(b) - b*f(a)) / (f(b) - f(a))\n",
        "          print(f'k: {k}|a : {a} | b : {b} |x : {x} |f(x) : {f(x)} ')\n",
        "\n",
        "          if(math.fabs(f(x)) < e):\n",
        "            x = (a*f(b) - b*f(a)) / (f(b) - f(a))\n",
        "            return x\n",
        "        \n",
        "          if( M * f(x) > 0 ):\n",
        "              a = x\n",
        "              if( (b - a) < e ):\n",
        "                x = (a*f(b) - b*f(a)) / (f(b) - f(a))\n",
        "                return x\n",
        "          else:\n",
        "            b = x\n",
        "          k = k + 1"
      ],
      "metadata": {
        "id": "eM1ReqqlMRcJ"
      },
      "execution_count": 238,
      "outputs": []
    },
    {
      "cell_type": "markdown",
      "source": [
        "# QUESTÕES"
      ],
      "metadata": {
        "id": "40D6gzn2U5o4"
      }
    },
    {
      "cell_type": "markdown",
      "source": [
        "## QUESTÃO 1"
      ],
      "metadata": {
        "id": "OA1s4jo8UtbY"
      }
    },
    {
      "cell_type": "code",
      "source": [
        "## a) [-2 , -1]\n",
        "\n",
        "print(\"BISSEÇÃO\")\n",
        "bissecao(-2,-1,f_ex1,0.01,0)\n",
        "print(\"FALSA POSIÇÃO\")\n",
        "falsa_posicao(f_ex1,-2,-1,0.01,0)\n"
      ],
      "metadata": {
        "id": "kBKeLptrU8xH",
        "colab": {
          "base_uri": "https://localhost:8080/"
        },
        "outputId": "e7dea582-f566-4775-e77c-45306a3952a6"
      },
      "execution_count": 239,
      "outputs": [
        {
          "output_type": "stream",
          "name": "stdout",
          "text": [
            "BISSEÇÃO\n",
            "|k: 0|a : -2 |b : -1 |x : -1.5 |f(x) : 0.8125 |f(a) : 12 |\n",
            "|k: 1|a : -1.5 |b : -1 |x : -1.25 |f(x) : -0.90234375 |f(a) : 0.8125 |\n",
            "|k: 2|a : -1.5 |b : -1.25 |x : -1.375 |f(x) : -0.288818359375 |f(a) : 0.8125 |\n",
            "|k: 3|a : -1.5 |b : -1.375 |x : -1.4375 |f(x) : 0.1953277587890625 |f(a) : 0.8125 |\n",
            "|k: 4|a : -1.4375 |b : -1.375 |x : -1.40625 |f(x) : -0.0626668930053711 |f(a) : 0.1953277587890625 |\n",
            "|k: 5|a : -1.4375 |b : -1.40625 |x : -1.421875 |f(x) : 0.06226259469985962 |f(a) : 0.1953277587890625 |\n",
            "|k: 6|a : -1.421875 |b : -1.40625 |x : -1.4140625 |f(x) : -0.0012081228196620941 |f(a) : 0.06226259469985962 |\n",
            "FALSA POSIÇÃO\n",
            "k: 0|a : -2 | b : -1 |x : -1.0769230769230769 |f(x) : -1.1037428661461437 \n",
            "k: 1|a : -2 | b : -1.0769230769230769 |x : -1.1546748749519047 |f(x) : -1.0951798970442859 \n",
            "k: 2|a : -2 | b : -1.1546748749519047 |x : -1.2253713518768288 |f(x) : -0.9731421782915497 \n",
            "k: 3|a : -2 | b : -1.2253713518768288 |x : -1.283477846020015 |f(x) : -0.7809393493405201 \n",
            "k: 4|a : -2 | b : -1.283477846020015 |x : -1.3272586925933982 |f(x) : -0.5759683312762842 \n",
            "k: 5|a : -2 | b : -1.3272586925933982 |x : -1.3580696550577323 |f(x) : -0.39853249450893635 \n",
            "k: 6|a : -2 | b : -1.3580696550577323 |x : -1.3787035568347472 |f(x) : -0.26363401452466473 \n",
            "k: 7|a : -2 | b : -1.3787035568347472 |x : -1.3920597019486307 |f(x) : -0.16922302580784265 \n",
            "k: 8|a : -2 | b : -1.3920597019486307 |x : -1.4005136103475977 |f(x) : -0.10652516845400317 \n",
            "k: 9|a : -2 | b : -1.4005136103475977 |x : -1.4057884838356574 |f(x) : -0.06623504488680876 \n",
            "k: 10|a : -2 | b : -1.4057884838356574 |x : -1.4090502822590256 |f(x) : -0.040867805445151895 \n",
            "k: 11|a : -2 | b : -1.4090502822590256 |x : -1.411056019593139 |f(x) : -0.025096223670341367 \n",
            "k: 12|a : -2 | b : -1.411056019593139 |x : -1.4122851382285886 |f(x) : -0.015366142264235272 \n",
            "k: 13|a : -2 | b : -1.4122851382285886 |x : -1.4130367516267872 |f(x) : -0.00939166825256521 \n"
          ]
        },
        {
          "output_type": "execute_result",
          "data": {
            "text/plain": [
              "-1.4130367516267872"
            ]
          },
          "metadata": {},
          "execution_count": 239
        }
      ]
    },
    {
      "cell_type": "code",
      "source": [
        "## b) [0 , 2]\n",
        "\n",
        "print(\"BISSEÇÃO\")\n",
        "bissecao(0,2,f_ex1,0.01,0)\n",
        "\n",
        "print(\"FALSA POSIÇÃO\")\n",
        "falsa_posicao(f_ex1,0,2,0.01,0)"
      ],
      "metadata": {
        "colab": {
          "base_uri": "https://localhost:8080/"
        },
        "id": "NkyFnUGqaBrF",
        "outputId": "87f6cbd9-4ed4-457e-a06f-c0349b995f5a"
      },
      "execution_count": 240,
      "outputs": [
        {
          "output_type": "stream",
          "name": "stdout",
          "text": [
            "BISSEÇÃO\n",
            "|k: 0|a : 0 |b : 2 |x : 1.0 |f(x) : 3.0 |f(a) : 4 |\n",
            "|k: 1|a : 1.0 |b : 2 |x : 1.5 |f(x) : -0.6875 |f(a) : 3.0 |\n",
            "|k: 2|a : 1.0 |b : 1.5 |x : 1.25 |f(x) : 1.28515625 |f(a) : 3.0 |\n",
            "|k: 3|a : 1.25 |b : 1.5 |x : 1.375 |f(x) : 0.312744140625 |f(a) : 1.28515625 |\n",
            "|k: 4|a : 1.375 |b : 1.5 |x : 1.4375 |f(x) : -0.1865081787109375 |f(a) : 0.312744140625 |\n",
            "|k: 5|a : 1.375 |b : 1.4375 |x : 1.40625 |f(x) : 0.0636758804321289 |f(a) : 0.312744140625 |\n",
            "|k: 6|a : 1.40625 |b : 1.4375 |x : 1.421875 |f(x) : -0.06131833791732788 |f(a) : 0.0636758804321289 |\n",
            "|k: 7|a : 1.40625 |b : 1.421875 |x : 1.4140625 |f(x) : 0.0012084878981113434 |f(a) : 0.0636758804321289 |\n",
            "FALSA POSIÇÃO\n",
            "k: 0|a : 0 | b : 2 |x : 1.0 |f(x) : 3.0 \n",
            "k: 1|a : 1.0 | b : 2 |x : 1.4285714285714286 |f(x) : -0.11495210329029693 \n",
            "k: 2|a : 1.0 | b : 1.4285714285714286 |x : 1.4127557160048132 |f(x) : 0.011661728244146907 \n",
            "k: 3|a : 1.4127557160048132 | b : 1.4285714285714286 |x : 1.4142124173754627 |f(x) : 9.159980422168701e-06 \n"
          ]
        },
        {
          "output_type": "execute_result",
          "data": {
            "text/plain": [
              "1.4142124173754627"
            ]
          },
          "metadata": {},
          "execution_count": 240
        }
      ]
    },
    {
      "cell_type": "code",
      "source": [
        "## c) [2 , 3]\n",
        "print(\"BISSEÇÃO\")\n",
        "bissecao(2,3,f_ex1,0.01,0)\n",
        "print(\"FALSA POSIÇÃO\")\n",
        "falsa_posicao(f_ex1,2,3,0.01,0)"
      ],
      "metadata": {
        "colab": {
          "base_uri": "https://localhost:8080/"
        },
        "id": "3tOcPlDCaDL2",
        "outputId": "1072ac9e-1227-4a53-ae5c-fb1dc68f08a0"
      },
      "execution_count": 241,
      "outputs": [
        {
          "output_type": "stream",
          "name": "stdout",
          "text": [
            "BISSEÇÃO\n",
            "|k: 0|a : 2 |b : 3 |x : 2.5 |f(x) : -3.1875 |f(a) : -4 |\n",
            "|k: 1|a : 2.5 |b : 3 |x : 2.75 |f(x) : 0.34765625 |f(a) : -3.1875 |\n",
            "|k: 2|a : 2.5 |b : 2.75 |x : 2.625 |f(x) : -1.757568359375 |f(a) : -3.1875 |\n",
            "|k: 3|a : 2.625 |b : 2.75 |x : 2.6875 |f(x) : -0.7956390380859375 |f(a) : -1.757568359375 |\n",
            "|k: 4|a : 2.6875 |b : 2.75 |x : 2.71875 |f(x) : -0.2474660873413086 |f(a) : -0.7956390380859375 |\n",
            "|k: 5|a : 2.71875 |b : 2.75 |x : 2.734375 |f(x) : 0.04412466287612915 |f(a) : -0.2474660873413086 |\n",
            "|k: 6|a : 2.71875 |b : 2.734375 |x : 2.7265625 |f(x) : -0.10315054282546043 |f(a) : -0.2474660873413086 |\n",
            "FALSA POSIÇÃO\n",
            "k: 0|a : 2 | b : 3 |x : 2.3636363636363638 |f(x) : -4.090704186872481 \n",
            "k: 1|a : 2.3636363636363638 | b : 3 |x : 2.5983532353321555 |f(x) : -2.115658919327606 \n",
            "k: 2|a : 2.5983532353321555 | b : 3 |x : 2.6915716814816615 |f(x) : -0.7268183788905542 \n",
            "k: 3|a : 2.6915716814816615 | b : 3 |x : 2.7205837999859437 |f(x) : -0.21385589546919803 \n",
            "k: 4|a : 2.7205837999859437 | b : 3 |x : 2.7288671372924367 |f(x) : -0.06001421155061415 \n",
            "k: 5|a : 2.7288671372924367 | b : 3 |x : 2.7311719237267518 |f(x) : -0.016616856526066925 \n",
            "k: 6|a : 2.7311719237267518 | b : 3 |x : 2.7318085663801774 |f(x) : -0.004583759217560157 \n"
          ]
        },
        {
          "output_type": "execute_result",
          "data": {
            "text/plain": [
              "2.7318085663801774"
            ]
          },
          "metadata": {},
          "execution_count": 241
        }
      ]
    },
    {
      "cell_type": "code",
      "source": [
        "## d) [-1 , 0]\n",
        "print(\"BISSEÇÃO\")\n",
        "bissecao(-1,0,f_ex1,0.01,0)\n",
        "print(\"FALSA POSIÇÃO\")\n",
        "falsa_posicao(f_ex1,-1,0,0.01,0)"
      ],
      "metadata": {
        "colab": {
          "base_uri": "https://localhost:8080/"
        },
        "id": "Wv8bbtgoaEgv",
        "outputId": "f3813789-b09c-48b6-d20e-52508cb05b0e"
      },
      "execution_count": 242,
      "outputs": [
        {
          "output_type": "stream",
          "name": "stdout",
          "text": [
            "BISSEÇÃO\n",
            "|k: 0|a : -1 |b : 0 |x : -0.5 |f(x) : 1.3125 |f(a) : -1 |\n",
            "|k: 1|a : -1 |b : -0.5 |x : -0.75 |f(x) : -0.08984375 |f(a) : -1 |\n",
            "|k: 2|a : -0.75 |b : -0.5 |x : -0.625 |f(x) : 0.578369140625 |f(a) : -0.08984375 |\n",
            "|k: 3|a : -0.75 |b : -0.625 |x : -0.6875 |f(x) : 0.2326812744140625 |f(a) : -0.08984375 |\n",
            "|k: 4|a : -0.75 |b : -0.6875 |x : -0.71875 |f(x) : 0.0680856704711914 |f(a) : -0.08984375 |\n",
            "|k: 5|a : -0.75 |b : -0.71875 |x : -0.734375 |f(x) : -0.01176828145980835 |f(a) : -0.08984375 |\n",
            "|k: 6|a : -0.734375 |b : -0.71875 |x : -0.7265625 |f(x) : 0.027943436056375504 |f(a) : -0.01176828145980835 |\n",
            "FALSA POSIÇÃO\n",
            "k: 0|a : -1 | b : 0 |x : -0.8 |f(x) : -0.32640000000000047 \n",
            "k: 1|a : -0.8 | b : 0 |x : -0.7396449704142012 |f(x) : -0.03830582837642105 \n",
            "k: 2|a : -0.7396449704142012 | b : 0 |x : -0.7326289804173365 |f(x) : -0.0029311682383532656 \n"
          ]
        },
        {
          "output_type": "execute_result",
          "data": {
            "text/plain": [
              "-0.7326289804173365"
            ]
          },
          "metadata": {},
          "execution_count": 242
        }
      ]
    },
    {
      "cell_type": "markdown",
      "source": [
        "## QUESTÃO 2"
      ],
      "metadata": {
        "id": "pJcAkQ45VIhy"
      }
    },
    {
      "cell_type": "code",
      "source": [
        "## x1 NR x0 = -0.8\n",
        "print(\"NEWTON-RAPHSON\")\n",
        "NR(fex2,df1_ex2,-0.8,0.00001,0)"
      ],
      "metadata": {
        "id": "ec1slz1MVIhz",
        "colab": {
          "base_uri": "https://localhost:8080/",
          "height": 159
        },
        "outputId": "c7c3b746-7091-434a-d008-e1917ed2db7c"
      },
      "execution_count": 243,
      "outputs": [
        {
          "output_type": "stream",
          "name": "stdout",
          "text": [
            "NEWTON-RAPHSON\n",
            "k: 0 | x: -0.80000000 | f(x): 0.05073270\n",
            "k: 1 | x: -1.13210308 | f(x): -0.51700556\n",
            "k: 2 | x: -1.00839185 | f(x): -0.14344336\n",
            "k: 3 | x: -0.93732902 | f(x): -0.03168335\n",
            "k: 4 | x: -0.91022701 | f(x): -0.00360372\n",
            "k: 5 | x: -0.90626058 | f(x): -0.00007046\n"
          ]
        },
        {
          "output_type": "execute_result",
          "data": {
            "text/plain": [
              "-0.906179878948179"
            ],
            "text/latex": "$\\displaystyle -0.906179878948179$"
          },
          "metadata": {},
          "execution_count": 243
        }
      ]
    },
    {
      "cell_type": "code",
      "source": [
        "## x2 B [-0.75,0.25]\n",
        "print(\"BISSEÇÃO\")\n",
        "bissecao(-0.75,0.25,f_ex2,0.00001,0)"
      ],
      "metadata": {
        "colab": {
          "base_uri": "https://localhost:8080/"
        },
        "id": "oA75GnWQeohG",
        "outputId": "578d5534-ed9e-49a9-9d85-d1433c742ee8"
      },
      "execution_count": 244,
      "outputs": [
        {
          "output_type": "stream",
          "name": "stdout",
          "text": [
            "BISSEÇÃO\n",
            "|k: 0|a : -0.75 |b : 0.25 |x : -0.25 |f(x) : -0.04313926091269841 |f(a) : 0.05287388392857145 |\n",
            "|k: 1|a : -0.75 |b : -0.25 |x : -0.5 |f(x) : -0.011408730158730146 |f(a) : 0.05287388392857145 |\n",
            "|k: 2|a : -0.75 |b : -0.5 |x : -0.625 |f(x) : 0.027090405660962297 |f(a) : 0.05287388392857145 |\n",
            "|k: 3|a : -0.625 |b : -0.5 |x : -0.5625 |f(x) : 0.007511820111955919 |f(a) : 0.027090405660962297 |\n",
            "|k: 4|a : -0.5625 |b : -0.5 |x : -0.53125 |f(x) : -0.002211063154160031 |f(a) : 0.007511820111955919 |\n",
            "|k: 5|a : -0.5625 |b : -0.53125 |x : -0.546875 |f(x) : 0.0026047979998919946 |f(a) : 0.007511820111955919 |\n",
            "|k: 6|a : -0.546875 |b : -0.53125 |x : -0.5390625 |f(x) : 0.00018281361969588183 |f(a) : 0.0026047979998919946 |\n",
            "|k: 7|a : -0.5390625 |b : -0.53125 |x : -0.53515625 |f(x) : -0.0010179572793767577 |f(a) : 0.00018281361969588183 |\n",
            "|k: 8|a : -0.5390625 |b : -0.53515625 |x : -0.537109375 |f(x) : -0.00041849066225799203 |f(a) : 0.00018281361969588183 |\n",
            "|k: 9|a : -0.5390625 |b : -0.537109375 |x : -0.5380859375 |f(x) : -0.00011806326623406416 |f(a) : 0.00018281361969588183 |\n",
            "|k: 10|a : -0.5390625 |b : -0.5380859375 |x : -0.53857421875 |f(x) : 3.231961409524975e-05 |f(a) : 0.00018281361969588183 |\n",
            "|k: 11|a : -0.53857421875 |b : -0.5380859375 |x : -0.538330078125 |f(x) : -4.288579482208954e-05 |f(a) : 3.231961409524975e-05 |\n",
            "|k: 12|a : -0.53857421875 |b : -0.538330078125 |x : -0.5384521484375 |f(x) : -5.286572798829381e-06 |f(a) : 3.231961409524975e-05 |\n",
            "|k: 13|a : -0.53857421875 |b : -0.5384521484375 |x : -0.53851318359375 |f(x) : 1.3515651259232708e-05 |f(a) : 3.231961409524975e-05 |\n",
            "|k: 14|a : -0.53851318359375 |b : -0.5384521484375 |x : -0.538482666015625 |f(x) : 4.114321730447346e-06 |f(a) : 1.3515651259232708e-05 |\n",
            "|k: 15|a : -0.538482666015625 |b : -0.5384521484375 |x : -0.5384674072265625 |f(x) : -5.861799281803304e-07 |f(a) : 4.114321730447346e-06 |\n",
            "|k: 16|a : -0.538482666015625 |b : -0.5384674072265625 |x : -0.5384750366210938 |f(x) : 1.7640573050092812e-06 |f(a) : 4.114321730447346e-06 |\n"
          ]
        },
        {
          "output_type": "execute_result",
          "data": {
            "text/plain": [
              "-0.5384712219238281"
            ]
          },
          "metadata": {},
          "execution_count": 244
        }
      ]
    },
    {
      "cell_type": "code",
      "source": [
        "## x3 FP [-0.25,0.25]\n",
        "print(\"FALSA POSIÇÃO\")\n",
        "falsa_posicao(f_ex2,-0.25,0.25,0.00001,0)"
      ],
      "metadata": {
        "colab": {
          "base_uri": "https://localhost:8080/"
        },
        "id": "dk9MgxRNeuFE",
        "outputId": "d5cb403b-52e2-4581-8e7b-438005c5ed81"
      },
      "execution_count": 245,
      "outputs": [
        {
          "output_type": "stream",
          "name": "stdout",
          "text": [
            "FALSA POSIÇÃO\n",
            "k: 0|a : -0.25 | b : 0.25 |x : 0.0 |f(x) : 0.0 \n"
          ]
        },
        {
          "output_type": "execute_result",
          "data": {
            "text/plain": [
              "0.0"
            ]
          },
          "metadata": {},
          "execution_count": 245
        }
      ]
    },
    {
      "cell_type": "code",
      "source": [
        "## x5 S x0 = 0.8 e x1 = 2\n",
        "print(\"SECANTE\")\n",
        "secante(f_ex2,0.8,2,0.00001,0)"
      ],
      "metadata": {
        "colab": {
          "base_uri": "https://localhost:8080/"
        },
        "id": "_5hgh638eyQ-",
        "outputId": "478e1cfb-a145-48c0-e938-99cfd4f9c9cb"
      },
      "execution_count": 246,
      "outputs": [
        {
          "output_type": "stream",
          "name": "stdout",
          "text": [
            "SECANTE\n",
            "k: 0 | x: 0.8000000000 |\n",
            "k: 1 | x: 2.0000000000 |\n",
            "k: 2 | x: 0.8025754780 |\n",
            "k: 3 | x: 0.8051247137 |\n",
            "k: 4 | x: 1.0953243488 |\n",
            "k: 5 | x: 0.8390166659 |\n",
            "k: 6 | x: 0.8639836449 |\n",
            "k: 7 | x: 0.9293490049 |\n",
            "k: 8 | x: 0.9009197248 |\n",
            "k: 9 | x: 0.9055990909 |\n",
            "k: 10 | x: 0.9061956438 |\n"
          ]
        },
        {
          "output_type": "execute_result",
          "data": {
            "text/plain": [
              "0.9061798459349356"
            ]
          },
          "metadata": {},
          "execution_count": 246
        }
      ]
    },
    {
      "cell_type": "markdown",
      "source": [
        "## QUESTÃO 3"
      ],
      "metadata": {
        "id": "6P8VYt24VIry"
      }
    },
    {
      "cell_type": "code",
      "source": [
        "# a) Graficamente\n",
        "\n",
        "fig, fig1 = plt.subplots(figsize =(8,6))\n",
        "x = np.linspace(-10,10,100)\n",
        "y = np.log(x**2)-0.7\n",
        "\n",
        "fig1.spines['left'].set_position('center') \n",
        "fig1.spines['bottom'].set_position('center')\n",
        "fig1.spines['top'].set_color('none')  \n",
        "fig1.spines['right'].set_color('none') \n",
        "\n",
        "plt.plot(x,y,'r')"
      ],
      "metadata": {
        "id": "z_l5bdfBVIrz",
        "colab": {
          "base_uri": "https://localhost:8080/",
          "height": 374
        },
        "outputId": "815efe70-18ae-4931-db77-c4d253aeaa43"
      },
      "execution_count": 247,
      "outputs": [
        {
          "output_type": "execute_result",
          "data": {
            "text/plain": [
              "[<matplotlib.lines.Line2D at 0x7f8b144d1e90>]"
            ]
          },
          "metadata": {},
          "execution_count": 247
        },
        {
          "output_type": "display_data",
          "data": {
            "text/plain": [
              "<Figure size 576x432 with 1 Axes>"
            ],
            "image/png": "[encoded data removed]"
          },
          "metadata": {
            "needs_background": "light"
          }
        }
      ]
    },
    {
      "cell_type": "code",
      "source": [
        "# b) B, N = 3 e [0.5,2.0]\n",
        "bissecao(0.5,2.0,f_ex3,0.1,3)"
      ],
      "metadata": {
        "id": "6JmmgcxAhbjB",
        "colab": {
          "base_uri": "https://localhost:8080/"
        },
        "outputId": "31c10b80-6b24-47e7-9474-875720b4ec63"
      },
      "execution_count": 248,
      "outputs": [
        {
          "output_type": "stream",
          "name": "stdout",
          "text": [
            "|k: 0|a : 0.5 |b : 2.0 |x : 1.25 |f(x) : -0.2537128973715804 |f(a) : -2.0862943611198905 |\n",
            "|k: 1|a : 1.25 |b : 2.0 |x : 1.625 |f(x) : 0.2710156315634017 |f(a) : -0.2537128973715804 |\n",
            "|k: 2|a : 1.25 |b : 1.625 |x : 1.4375 |f(x) : 0.025810987378736994 |f(a) : -0.2537128973715804 |\n",
            "|k: 3|a : 1.25 |b : 1.4375 |x : 1.34375 |f(x) : -0.10907157421232816 |f(a) : -0.2537128973715804 |\n"
          ]
        },
        {
          "output_type": "execute_result",
          "data": {
            "text/plain": [
              "1.390625"
            ]
          },
          "metadata": {},
          "execution_count": 248
        }
      ]
    },
    {
      "cell_type": "code",
      "source": [
        "# c) FP, N = 3 e [0.5,2.0]\n",
        "falsa_posicao(f_ex3,0.5,2.0,0.1,3)"
      ],
      "metadata": {
        "id": "-b4zJLLuhjUh",
        "colab": {
          "base_uri": "https://localhost:8080/"
        },
        "outputId": "c72e3664-fbef-4ec7-e1de-229e026c12fb"
      },
      "execution_count": 249,
      "outputs": [
        {
          "output_type": "stream",
          "name": "stdout",
          "text": [
            "k: 0|a : 0.5 | b : 2.0 |x : 1.6287074482333528 |f(x) : 0.2755734474050122 \n",
            "k: 1|a : 0.5 | b : 1.6287074482333528 |x : 1.4970143020298659 |f(x) : 0.10694531837203947 \n",
            "k: 2|a : 0.5 | b : 1.4970143020298659 |x : 1.4483985429092026 |f(x) : 0.04091698581713732 \n"
          ]
        },
        {
          "output_type": "execute_result",
          "data": {
            "text/plain": [
              "1.4483985429092026"
            ]
          },
          "metadata": {},
          "execution_count": 249
        }
      ]
    },
    {
      "cell_type": "code",
      "source": [
        "# d) Compare e explique"
      ],
      "metadata": {
        "id": "5zvIJYQrhoky"
      },
      "execution_count": 250,
      "outputs": []
    },
    {
      "cell_type": "markdown",
      "source": [
        "## QUESTÃO 4"
      ],
      "metadata": {
        "id": "Iaup3qErVI8t"
      }
    },
    {
      "cell_type": "code",
      "source": [
        "# a) Graficamente\n",
        "fig, fig1 = plt.subplots(figsize =(8,6))\n",
        "x = np.linspace(-100,100,1000)\n",
        "y = (x**3)-6*(x**2)+11*x-6.1\n",
        "\n",
        "fig1.spines['left'].set_position('center') \n",
        "fig1.spines['bottom'].set_position('center')\n",
        "fig1.spines['top'].set_color('none')  \n",
        "fig1.spines['right'].set_color('none') \n",
        "\n",
        "plt.plot(x,y,'r')"
      ],
      "metadata": {
        "id": "YTFjz0GDVI8u",
        "colab": {
          "base_uri": "https://localhost:8080/",
          "height": 385
        },
        "outputId": "24de682d-372f-4161-df8f-f84e11e6f774"
      },
      "execution_count": 259,
      "outputs": [
        {
          "output_type": "execute_result",
          "data": {
            "text/plain": [
              "[<matplotlib.lines.Line2D at 0x7f8b142624d0>]"
            ]
          },
          "metadata": {},
          "execution_count": 259
        },
        {
          "output_type": "display_data",
          "data": {
            "text/plain": [
              "<Figure size 576x432 with 1 Axes>"
            ],
            "image/png": "[encoded data removed]"
          },
          "metadata": {
            "needs_background": "light"
          }
        }
      ]
    },
    {
      "cell_type": "code",
      "source": [
        "# b) NR, N = 3 e x0 = 3.5\n",
        "NR(fex4 ,d4 ,3.5 ,0.1 , 3)"
      ],
      "metadata": {
        "id": "q1jKZWmGh38m",
        "colab": {
          "base_uri": "https://localhost:8080/",
          "height": 72
        },
        "outputId": "5ccb56c1-7faf-4c49-db79-907716ee606c"
      },
      "execution_count": 262,
      "outputs": [
        {
          "output_type": "stream",
          "name": "stdout",
          "text": [
            "k: 0 | x: 3.50000000 | f(x): 1.77500000\n",
            "k: 1 | x: 3.19130435 | f(x): 0.39940199\n"
          ]
        },
        {
          "output_type": "execute_result",
          "data": {
            "text/plain": [
              "3.06869882105510"
            ],
            "text/latex": "$\\displaystyle 3.0686988210551$"
          },
          "metadata": {},
          "execution_count": 262
        }
      ]
    },
    {
      "cell_type": "code",
      "source": [
        "# c) S, N = 3, x0 = 2.5 e x1 = 3.5\n",
        "secante(f_ex4,2.5,3.5,0.1,3)"
      ],
      "metadata": {
        "id": "tTmsgBvnh9Pt",
        "colab": {
          "base_uri": "https://localhost:8080/"
        },
        "outputId": "d485ecf9-0987-4922-8f6b-7ba12a6e449d"
      },
      "execution_count": 263,
      "outputs": [
        {
          "output_type": "stream",
          "name": "stdout",
          "text": [
            "k: 0 | x: 2.5000000000 |\n",
            "k: 1 | x: 3.5000000000 |\n",
            "k: 2 | x: 2.7111111111 |\n",
            "k: 3 | x: 2.8710905035 |\n"
          ]
        }
      ]
    },
    {
      "cell_type": "code",
      "source": [
        "# d) Compare e explique"
      ],
      "metadata": {
        "id": "K2gjldUviEml"
      },
      "execution_count": 264,
      "outputs": []
    }
  ]
}