{
  "nbformat": 4,
  "nbformat_minor": 0,
  "metadata": {
    "colab": {
      "name": "Metodo_NR_Secante.ipynb",
      "provenance": [],
      "collapsed_sections": []
    },
    "kernelspec": {
      "name": "python3",
      "display_name": "Python 3"
    },
    "language_info": {
      "name": "python"
    }
  },
  "cells": [
    {
      "cell_type": "code",
      "execution_count": null,
      "metadata": {
        "id": "WtEkaS-GKkC6",
        "colab": {
          "base_uri": "https://localhost:8080/",
          "height": 55
        },
        "outputId": "7c5f7177-60c2-444c-8765-4494803f0836"
      },
      "outputs": [
        {
          "output_type": "stream",
          "name": "stdout",
          "text": [
            "8\n"
          ]
        },
        {
          "output_type": "execute_result",
          "data": {
            "text/plain": [
              "12"
            ],
            "text/latex": "$\\displaystyle 12$"
          },
          "metadata": {},
          "execution_count": 38
        }
      ],
      "source": [
        "import math\n",
        "from sympy import *\n",
        "\n",
        "x = Symbol('x')\n",
        "f = (x**3)\n",
        "print(f.subs({x: 2}))\n",
        "\n",
        "df1 = f.diff(x)\n",
        "df1\n",
        "df2 = df1.diff(x)\n",
        "df2\n",
        "df2.subs({x : 2})\n"
      ]
    },
    {
      "cell_type": "markdown",
      "source": [
        "###Método Newton-Raphson"
      ],
      "metadata": {
        "id": "TLHq5qr0K4V2"
      }
    },
    {
      "cell_type": "code",
      "source": [
        "import math\n",
        "from sympy import *\n",
        "\n",
        "#Método de Newton-Raphson\n",
        "# f = função\n",
        "# df1 = primeira derivada\n",
        "# x0 = aproximação inicial\n",
        "# e = tolerância\n",
        "# N = número de iterações\n",
        "\n",
        "y = Symbol('y')\n",
        "f = (y**3)-(9*y)+3\n",
        "df1 = f.diff(y)\n",
        "\n",
        "def NR(f,df1,x0,e):\n",
        "    if ( math.fabs(f.subs({y: x0})) < e):\n",
        "       x = x0\n",
        "       return x\n",
        "    \n",
        "    k = 0\n",
        "\n",
        "    while(  math.fabs(f.subs({y: x0})) > e ):\n",
        "        x1 = x0 - ( f.subs({y:x0}) / df1.subs({y:x0}))\n",
        "\n",
        "        print(f'k: {k} | x: {x0:,.8f} | f(x): {f.subs({y: x0}):,.8f}')\n",
        "\n",
        "        if( math.fabs(f.subs({y: x1})) < e or math.fabs(x1 - x0) < e):\n",
        "          x = x1\n",
        "          return x\n",
        "        else:\n",
        "          x0 = x1\n",
        "        \n",
        "        k = k + 1\n",
        "\n",
        "NR(f,df1,0.75,0.01)"
      ],
      "metadata": {
        "colab": {
          "base_uri": "https://localhost:8080/",
          "height": 72
        },
        "id": "SrynVVD5Bp1C",
        "outputId": "8769942a-773a-4b34-efdc-3d290c342b6a"
      },
      "execution_count": null,
      "outputs": [
        {
          "output_type": "stream",
          "name": "stdout",
          "text": [
            "k: 0 | x: 0.75000000 | f(x): -3.32812500\n",
            "k: 1 | x: 0.29487179 | f(x): 0.37179276\n"
          ]
        },
        {
          "output_type": "execute_result",
          "data": {
            "text/plain": [
              "0.337415141172970"
            ],
            "text/latex": "$\\displaystyle 0.33741514117297$"
          },
          "metadata": {},
          "execution_count": 48
        }
      ]
    },
    {
      "cell_type": "markdown",
      "source": [
        "###Método da Secante"
      ],
      "metadata": {
        "id": "btWmkz6TK87O"
      }
    },
    {
      "cell_type": "code",
      "source": [
        "import math\n",
        "from sympy import *\n",
        "\n",
        "#Método da Secante\n",
        "# f = função\n",
        "# x0 = aproximação inicial\n",
        "# x1 = aproximação inicial\n",
        "# e = tolerância\n",
        "# N = número de iterações\n",
        "\n",
        "f = lambda x: (x**3)-(9*x)+3\n",
        "\n",
        "def secante(f,x0,x1,e):\n",
        "   \n",
        "   if(math.fabs(f(x0)) < e):\n",
        "     x = x0\n",
        "     return x\n",
        "\n",
        "   if(math.fabs(x1) < e) or (math.fabs(x1 - x0) < e):\n",
        "      x = x1\n",
        "      return x\n",
        "\n",
        "   k = 0\n",
        "   while( math.fabs(f(x0)) > e ):\n",
        "      x2 = x1 -( (f(x1)/(f(x1) - f(x0))) * (x1-x0) )\n",
        "\n",
        "      print(f'k: {k} | x: {x0:,.10f} |')\n",
        "\n",
        "      if(math.fabs(x2) < e) or (math.fabs(x2 - x1) < e):\n",
        "        x = x2\n",
        "        return x\n",
        "      else:\n",
        "        x0 = x1\n",
        "        x1 = x2\n",
        "      \n",
        "      k = k + 1\n",
        "\n",
        "secante(f, 0, 1, 0.0005)\n"
      ],
      "metadata": {
        "id": "tT4-JbWPLBOd",
        "colab": {
          "base_uri": "https://localhost:8080/"
        },
        "outputId": "2b61a597-1ece-4241-9a96-6017c58b95d4"
      },
      "execution_count": 2,
      "outputs": [
        {
          "output_type": "stream",
          "name": "stdout",
          "text": [
            "k: 0 | x: 0.0000000000 |\n",
            "k: 1 | x: 1.0000000000 |\n",
            "k: 2 | x: 0.3750000000 |\n",
            "k: 3 | x: 0.3319415449 |\n"
          ]
        },
        {
          "output_type": "execute_result",
          "data": {
            "text/plain": [
              "0.33760897287513775"
            ]
          },
          "metadata": {},
          "execution_count": 2
        }
      ]
    }
  ]
}