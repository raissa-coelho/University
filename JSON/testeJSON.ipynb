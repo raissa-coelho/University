{
 "cells": [
  {
   "cell_type": "code",
   "execution_count": 3,
   "metadata": {},
   "outputs": [
    {
     "name": "stdout",
     "output_type": "stream",
     "text": [
      "<class 'list'>\n",
      "[{'name': 'Bianca', 'age': 26, 'games': ['Warframe', 'Overwatch']}, {'name': 'Raissa', 'age': 26, 'games': ['Warframe', 'Overwatch']}, {'name': 'Sandra', 'age': 56, 'games': None}, {'name': 'Vinicius', 'age': 32, 'games': ['League of Legends', 'Valorant']}]\n"
     ]
    }
   ],
   "source": [
    "import json\n",
    "\n",
    "with open(\"nome.json\", \"r\") as read:\n",
    "    y = json.load(read)\n",
    "\n",
    "print(type(y))\n",
    "print(y)"
   ]
  },
  {
   "cell_type": "code",
   "execution_count": 6,
   "metadata": {},
   "outputs": [
    {
     "data": {
      "text/html": [
       "<div>\n",
       "<style scoped>\n",
       "    .dataframe tbody tr th:only-of-type {\n",
       "        vertical-align: middle;\n",
       "    }\n",
       "\n",
       "    .dataframe tbody tr th {\n",
       "        vertical-align: top;\n",
       "    }\n",
       "\n",
       "    .dataframe thead th {\n",
       "        text-align: right;\n",
       "    }\n",
       "</style>\n",
       "<table border=\"1\" class=\"dataframe\">\n",
       "  <thead>\n",
       "    <tr style=\"text-align: right;\">\n",
       "      <th></th>\n",
       "      <th>name</th>\n",
       "      <th>age</th>\n",
       "      <th>games</th>\n",
       "    </tr>\n",
       "  </thead>\n",
       "  <tbody>\n",
       "    <tr>\n",
       "      <th>0</th>\n",
       "      <td>Bianca</td>\n",
       "      <td>26</td>\n",
       "      <td>['Warframe', 'Overwatch']</td>\n",
       "    </tr>\n",
       "    <tr>\n",
       "      <th>1</th>\n",
       "      <td>Raissa</td>\n",
       "      <td>26</td>\n",
       "      <td>['Warframe', 'Overwatch']</td>\n",
       "    </tr>\n",
       "    <tr>\n",
       "      <th>2</th>\n",
       "      <td>Sandra</td>\n",
       "      <td>56</td>\n",
       "      <td>NaN</td>\n",
       "    </tr>\n",
       "    <tr>\n",
       "      <th>3</th>\n",
       "      <td>Vinicius</td>\n",
       "      <td>32</td>\n",
       "      <td>['League of Legends', 'Valorant']</td>\n",
       "    </tr>\n",
       "  </tbody>\n",
       "</table>\n",
       "</div>"
      ],
      "text/plain": [
       "       name  age                              games\n",
       "0    Bianca   26          ['Warframe', 'Overwatch']\n",
       "1    Raissa   26          ['Warframe', 'Overwatch']\n",
       "2    Sandra   56                                NaN\n",
       "3  Vinicius   32  ['League of Legends', 'Valorant']"
      ]
     },
     "execution_count": 6,
     "metadata": {},
     "output_type": "execute_result"
    }
   ],
   "source": [
    "import csv\n",
    "import pandas as pd\n",
    "\n",
    "df = pd.read_json(r\"nome.json\")\n",
    "df.to_csv(r'nome.csv', index = None)\n",
    "\n",
    "nome = pd.read_csv(\"nome.csv\")\n",
    "nome\n"
   ]
  }
 ],
 "metadata": {
  "interpreter": {
   "hash": "d94daa7af4fba26e08ffe092cfc51eed2bf4a28a858abb33235a5fbe4ca94ced"
  },
  "kernelspec": {
   "display_name": "Python 3.10.2 64-bit",
   "language": "python",
   "name": "python3"
  },
  "language_info": {
   "codemirror_mode": {
    "name": "ipython",
    "version": 3
   },
   "file_extension": ".py",
   "mimetype": "text/x-python",
   "name": "python",
   "nbconvert_exporter": "python",
   "pygments_lexer": "ipython3",
   "version": "3.10.2"
  },
  "orig_nbformat": 4
 },
 "nbformat": 4,
 "nbformat_minor": 2
}
